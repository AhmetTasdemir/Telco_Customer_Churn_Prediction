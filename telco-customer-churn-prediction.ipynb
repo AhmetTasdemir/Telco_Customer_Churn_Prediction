{
 "cells": [
  {
   "cell_type": "markdown",
   "id": "b3576d1b",
   "metadata": {
    "papermill": {
     "duration": 0.012229,
     "end_time": "2023-01-15T13:38:15.739590",
     "exception": false,
     "start_time": "2023-01-15T13:38:15.727361",
     "status": "completed"
    },
    "tags": []
   },
   "source": [
    "# Telco Customer Churn Prediction"
   ]
  },
  {
   "cell_type": "markdown",
   "id": "c3f0bb10",
   "metadata": {
    "_cell_guid": "b1076dfc-b9ad-4769-8c92-a6c4dae69d19",
    "_uuid": "8f2839f25d086af736a60e9eeb907d3b93b6e0e5",
    "papermill": {
     "duration": 0.010463,
     "end_time": "2023-01-15T13:38:15.761235",
     "exception": false,
     "start_time": "2023-01-15T13:38:15.750772",
     "status": "completed"
    },
    "tags": []
   },
   "source": [
    "## Hi my name is Ahmet Taşdemir, today together using Telco Customer churn dataset. We make a Customer churn prediction using ANN. The reason why I developed the using this classic dataset is to prepare for the problems that I may encounter in business life and to create a resource for people who want to develop such as"
   ]
  },
  {
   "cell_type": "markdown",
   "id": "5baed53d",
   "metadata": {
    "papermill": {
     "duration": 0.010463,
     "end_time": "2023-01-15T13:38:15.784307",
     "exception": false,
     "start_time": "2023-01-15T13:38:15.773844",
     "status": "completed"
    },
    "tags": []
   },
   "source": [
    "### For more information: Visit my [Medium account](https://medium.com/@ahmettsdmr1312)"
   ]
  },
  {
   "cell_type": "markdown",
   "id": "3960656d",
   "metadata": {
    "papermill": {
     "duration": 0.010424,
     "end_time": "2023-01-15T13:38:15.805809",
     "exception": false,
     "start_time": "2023-01-15T13:38:15.795385",
     "status": "completed"
    },
    "tags": []
   },
   "source": [
    "Customer churn prediction is to measure why customers are leaving a business. We will build a deep learning  model to predict the churn and use precision,recall,f1-score to measure performance of our model"
   ]
  },
  {
   "cell_type": "code",
   "execution_count": 1,
   "id": "2dc07a03",
   "metadata": {
    "execution": {
     "iopub.execute_input": "2023-01-15T13:38:15.829257Z",
     "iopub.status.busy": "2023-01-15T13:38:15.828806Z",
     "iopub.status.idle": "2023-01-15T13:38:23.376718Z",
     "shell.execute_reply": "2023-01-15T13:38:23.375122Z"
    },
    "papermill": {
     "duration": 7.563698,
     "end_time": "2023-01-15T13:38:23.380108",
     "exception": false,
     "start_time": "2023-01-15T13:38:15.816410",
     "status": "completed"
    },
    "tags": []
   },
   "outputs": [],
   "source": [
    "import pandas as pd\n",
    "import numpy as np\n",
    "from matplotlib import pyplot as plt\n",
    "%matplotlib inline\n",
    "import seaborn as sn\n",
    "import tensorflow as tf\n",
    "from tensorflow import keras\n",
    "from sklearn.metrics import confusion_matrix , classification_report"
   ]
  },
  {
   "cell_type": "code",
   "execution_count": 2,
   "id": "099eaa59",
   "metadata": {
    "execution": {
     "iopub.execute_input": "2023-01-15T13:38:23.404556Z",
     "iopub.status.busy": "2023-01-15T13:38:23.403881Z",
     "iopub.status.idle": "2023-01-15T13:38:23.623943Z",
     "shell.execute_reply": "2023-01-15T13:38:23.622670Z"
    },
    "papermill": {
     "duration": 0.235204,
     "end_time": "2023-01-15T13:38:23.626638",
     "exception": false,
     "start_time": "2023-01-15T13:38:23.391434",
     "status": "completed"
    },
    "tags": []
   },
   "outputs": [
    {
     "data": {
      "text/html": [
       "<div>\n",
       "<style scoped>\n",
       "    .dataframe tbody tr th:only-of-type {\n",
       "        vertical-align: middle;\n",
       "    }\n",
       "\n",
       "    .dataframe tbody tr th {\n",
       "        vertical-align: top;\n",
       "    }\n",
       "\n",
       "    .dataframe thead th {\n",
       "        text-align: right;\n",
       "    }\n",
       "</style>\n",
       "<table border=\"1\" class=\"dataframe\">\n",
       "  <thead>\n",
       "    <tr style=\"text-align: right;\">\n",
       "      <th></th>\n",
       "      <th>customerID</th>\n",
       "      <th>gender</th>\n",
       "      <th>SeniorCitizen</th>\n",
       "      <th>Partner</th>\n",
       "      <th>Dependents</th>\n",
       "      <th>tenure</th>\n",
       "      <th>PhoneService</th>\n",
       "      <th>MultipleLines</th>\n",
       "      <th>InternetService</th>\n",
       "      <th>OnlineSecurity</th>\n",
       "      <th>...</th>\n",
       "      <th>DeviceProtection</th>\n",
       "      <th>TechSupport</th>\n",
       "      <th>StreamingTV</th>\n",
       "      <th>StreamingMovies</th>\n",
       "      <th>Contract</th>\n",
       "      <th>PaperlessBilling</th>\n",
       "      <th>PaymentMethod</th>\n",
       "      <th>MonthlyCharges</th>\n",
       "      <th>TotalCharges</th>\n",
       "      <th>Churn</th>\n",
       "    </tr>\n",
       "  </thead>\n",
       "  <tbody>\n",
       "    <tr>\n",
       "      <th>2134</th>\n",
       "      <td>8974-OVACP</td>\n",
       "      <td>Female</td>\n",
       "      <td>0</td>\n",
       "      <td>No</td>\n",
       "      <td>No</td>\n",
       "      <td>1</td>\n",
       "      <td>Yes</td>\n",
       "      <td>No</td>\n",
       "      <td>No</td>\n",
       "      <td>No internet service</td>\n",
       "      <td>...</td>\n",
       "      <td>No internet service</td>\n",
       "      <td>No internet service</td>\n",
       "      <td>No internet service</td>\n",
       "      <td>No internet service</td>\n",
       "      <td>Month-to-month</td>\n",
       "      <td>No</td>\n",
       "      <td>Mailed check</td>\n",
       "      <td>20.15</td>\n",
       "      <td>20.15</td>\n",
       "      <td>No</td>\n",
       "    </tr>\n",
       "    <tr>\n",
       "      <th>1634</th>\n",
       "      <td>9995-HOTOH</td>\n",
       "      <td>Male</td>\n",
       "      <td>0</td>\n",
       "      <td>Yes</td>\n",
       "      <td>Yes</td>\n",
       "      <td>63</td>\n",
       "      <td>No</td>\n",
       "      <td>No phone service</td>\n",
       "      <td>DSL</td>\n",
       "      <td>Yes</td>\n",
       "      <td>...</td>\n",
       "      <td>Yes</td>\n",
       "      <td>No</td>\n",
       "      <td>Yes</td>\n",
       "      <td>Yes</td>\n",
       "      <td>Two year</td>\n",
       "      <td>No</td>\n",
       "      <td>Electronic check</td>\n",
       "      <td>59.00</td>\n",
       "      <td>3707.6</td>\n",
       "      <td>No</td>\n",
       "    </tr>\n",
       "    <tr>\n",
       "      <th>6746</th>\n",
       "      <td>8976-OQHGT</td>\n",
       "      <td>Female</td>\n",
       "      <td>0</td>\n",
       "      <td>Yes</td>\n",
       "      <td>Yes</td>\n",
       "      <td>4</td>\n",
       "      <td>Yes</td>\n",
       "      <td>No</td>\n",
       "      <td>DSL</td>\n",
       "      <td>No</td>\n",
       "      <td>...</td>\n",
       "      <td>No</td>\n",
       "      <td>Yes</td>\n",
       "      <td>No</td>\n",
       "      <td>No</td>\n",
       "      <td>Month-to-month</td>\n",
       "      <td>No</td>\n",
       "      <td>Mailed check</td>\n",
       "      <td>56.50</td>\n",
       "      <td>235.1</td>\n",
       "      <td>Yes</td>\n",
       "    </tr>\n",
       "    <tr>\n",
       "      <th>6475</th>\n",
       "      <td>5448-VWNAM</td>\n",
       "      <td>Female</td>\n",
       "      <td>0</td>\n",
       "      <td>No</td>\n",
       "      <td>Yes</td>\n",
       "      <td>19</td>\n",
       "      <td>Yes</td>\n",
       "      <td>Yes</td>\n",
       "      <td>DSL</td>\n",
       "      <td>Yes</td>\n",
       "      <td>...</td>\n",
       "      <td>No</td>\n",
       "      <td>Yes</td>\n",
       "      <td>Yes</td>\n",
       "      <td>No</td>\n",
       "      <td>Month-to-month</td>\n",
       "      <td>Yes</td>\n",
       "      <td>Mailed check</td>\n",
       "      <td>75.90</td>\n",
       "      <td>1375.6</td>\n",
       "      <td>No</td>\n",
       "    </tr>\n",
       "    <tr>\n",
       "      <th>3903</th>\n",
       "      <td>5206-XZZQI</td>\n",
       "      <td>Male</td>\n",
       "      <td>0</td>\n",
       "      <td>No</td>\n",
       "      <td>No</td>\n",
       "      <td>53</td>\n",
       "      <td>Yes</td>\n",
       "      <td>No</td>\n",
       "      <td>Fiber optic</td>\n",
       "      <td>No</td>\n",
       "      <td>...</td>\n",
       "      <td>No</td>\n",
       "      <td>Yes</td>\n",
       "      <td>No</td>\n",
       "      <td>No</td>\n",
       "      <td>Month-to-month</td>\n",
       "      <td>Yes</td>\n",
       "      <td>Mailed check</td>\n",
       "      <td>80.60</td>\n",
       "      <td>4348.1</td>\n",
       "      <td>No</td>\n",
       "    </tr>\n",
       "  </tbody>\n",
       "</table>\n",
       "<p>5 rows × 21 columns</p>\n",
       "</div>"
      ],
      "text/plain": [
       "      customerID  gender  SeniorCitizen Partner Dependents  tenure  \\\n",
       "2134  8974-OVACP  Female              0      No         No       1   \n",
       "1634  9995-HOTOH    Male              0     Yes        Yes      63   \n",
       "6746  8976-OQHGT  Female              0     Yes        Yes       4   \n",
       "6475  5448-VWNAM  Female              0      No        Yes      19   \n",
       "3903  5206-XZZQI    Male              0      No         No      53   \n",
       "\n",
       "     PhoneService     MultipleLines InternetService       OnlineSecurity  ...  \\\n",
       "2134          Yes                No              No  No internet service  ...   \n",
       "1634           No  No phone service             DSL                  Yes  ...   \n",
       "6746          Yes                No             DSL                   No  ...   \n",
       "6475          Yes               Yes             DSL                  Yes  ...   \n",
       "3903          Yes                No     Fiber optic                   No  ...   \n",
       "\n",
       "         DeviceProtection          TechSupport          StreamingTV  \\\n",
       "2134  No internet service  No internet service  No internet service   \n",
       "1634                  Yes                   No                  Yes   \n",
       "6746                   No                  Yes                   No   \n",
       "6475                   No                  Yes                  Yes   \n",
       "3903                   No                  Yes                   No   \n",
       "\n",
       "          StreamingMovies        Contract PaperlessBilling     PaymentMethod  \\\n",
       "2134  No internet service  Month-to-month               No      Mailed check   \n",
       "1634                  Yes        Two year               No  Electronic check   \n",
       "6746                   No  Month-to-month               No      Mailed check   \n",
       "6475                   No  Month-to-month              Yes      Mailed check   \n",
       "3903                   No  Month-to-month              Yes      Mailed check   \n",
       "\n",
       "     MonthlyCharges  TotalCharges Churn  \n",
       "2134          20.15         20.15    No  \n",
       "1634          59.00        3707.6    No  \n",
       "6746          56.50         235.1   Yes  \n",
       "6475          75.90        1375.6    No  \n",
       "3903          80.60        4348.1    No  \n",
       "\n",
       "[5 rows x 21 columns]"
      ]
     },
     "execution_count": 2,
     "metadata": {},
     "output_type": "execute_result"
    }
   ],
   "source": [
    "df = pd.read_csv(\"/kaggle/input/telco-customer-churn/WA_Fn-UseC_-Telco-Customer-Churn.csv\")\n",
    "df.sample(5)"
   ]
  },
  {
   "cell_type": "code",
   "execution_count": 3,
   "id": "22afb71b",
   "metadata": {
    "execution": {
     "iopub.execute_input": "2023-01-15T13:38:23.652568Z",
     "iopub.status.busy": "2023-01-15T13:38:23.652127Z",
     "iopub.status.idle": "2023-01-15T13:38:23.664473Z",
     "shell.execute_reply": "2023-01-15T13:38:23.663233Z"
    },
    "papermill": {
     "duration": 0.028792,
     "end_time": "2023-01-15T13:38:23.667611",
     "exception": false,
     "start_time": "2023-01-15T13:38:23.638819",
     "status": "completed"
    },
    "tags": []
   },
   "outputs": [],
   "source": [
    "df.drop('customerID', axis='columns', inplace=True)"
   ]
  },
  {
   "cell_type": "code",
   "execution_count": 4,
   "id": "7c4372a8",
   "metadata": {
    "execution": {
     "iopub.execute_input": "2023-01-15T13:38:23.693738Z",
     "iopub.status.busy": "2023-01-15T13:38:23.693285Z",
     "iopub.status.idle": "2023-01-15T13:38:23.702575Z",
     "shell.execute_reply": "2023-01-15T13:38:23.701553Z"
    },
    "papermill": {
     "duration": 0.025118,
     "end_time": "2023-01-15T13:38:23.705005",
     "exception": false,
     "start_time": "2023-01-15T13:38:23.679887",
     "status": "completed"
    },
    "tags": []
   },
   "outputs": [
    {
     "data": {
      "text/plain": [
       "gender               object\n",
       "SeniorCitizen         int64\n",
       "Partner              object\n",
       "Dependents           object\n",
       "tenure                int64\n",
       "PhoneService         object\n",
       "MultipleLines        object\n",
       "InternetService      object\n",
       "OnlineSecurity       object\n",
       "OnlineBackup         object\n",
       "DeviceProtection     object\n",
       "TechSupport          object\n",
       "StreamingTV          object\n",
       "StreamingMovies      object\n",
       "Contract             object\n",
       "PaperlessBilling     object\n",
       "PaymentMethod        object\n",
       "MonthlyCharges      float64\n",
       "TotalCharges         object\n",
       "Churn                object\n",
       "dtype: object"
      ]
     },
     "execution_count": 4,
     "metadata": {},
     "output_type": "execute_result"
    }
   ],
   "source": [
    "df.dtypes"
   ]
  },
  {
   "cell_type": "code",
   "execution_count": 5,
   "id": "29586fe9",
   "metadata": {
    "execution": {
     "iopub.execute_input": "2023-01-15T13:38:23.729916Z",
     "iopub.status.busy": "2023-01-15T13:38:23.729501Z",
     "iopub.status.idle": "2023-01-15T13:38:23.738327Z",
     "shell.execute_reply": "2023-01-15T13:38:23.737420Z"
    },
    "papermill": {
     "duration": 0.023955,
     "end_time": "2023-01-15T13:38:23.740704",
     "exception": false,
     "start_time": "2023-01-15T13:38:23.716749",
     "status": "completed"
    },
    "tags": []
   },
   "outputs": [
    {
     "data": {
      "text/plain": [
       "array(['29.85', '1889.5', '108.15', ..., '346.45', '306.6', '6844.5'],\n",
       "      dtype=object)"
      ]
     },
     "execution_count": 5,
     "metadata": {},
     "output_type": "execute_result"
    }
   ],
   "source": [
    "\n",
    "df.TotalCharges.values"
   ]
  },
  {
   "cell_type": "code",
   "execution_count": 6,
   "id": "10b1ff64",
   "metadata": {
    "execution": {
     "iopub.execute_input": "2023-01-15T13:38:23.766909Z",
     "iopub.status.busy": "2023-01-15T13:38:23.766327Z",
     "iopub.status.idle": "2023-01-15T13:38:23.779239Z",
     "shell.execute_reply": "2023-01-15T13:38:23.777988Z"
    },
    "papermill": {
     "duration": 0.029344,
     "end_time": "2023-01-15T13:38:23.782165",
     "exception": false,
     "start_time": "2023-01-15T13:38:23.752821",
     "status": "completed"
    },
    "tags": []
   },
   "outputs": [
    {
     "data": {
      "text/plain": [
       "0       False\n",
       "1       False\n",
       "2       False\n",
       "3       False\n",
       "4       False\n",
       "        ...  \n",
       "7038    False\n",
       "7039    False\n",
       "7040    False\n",
       "7041    False\n",
       "7042    False\n",
       "Name: TotalCharges, Length: 7043, dtype: bool"
      ]
     },
     "execution_count": 6,
     "metadata": {},
     "output_type": "execute_result"
    }
   ],
   "source": [
    "pd.to_numeric(df.TotalCharges,errors='coerce').isnull()"
   ]
  },
  {
   "cell_type": "code",
   "execution_count": 7,
   "id": "64a35728",
   "metadata": {
    "execution": {
     "iopub.execute_input": "2023-01-15T13:38:23.808073Z",
     "iopub.status.busy": "2023-01-15T13:38:23.807599Z",
     "iopub.status.idle": "2023-01-15T13:38:24.012572Z",
     "shell.execute_reply": "2023-01-15T13:38:24.011238Z"
    },
    "papermill": {
     "duration": 0.221129,
     "end_time": "2023-01-15T13:38:24.015218",
     "exception": false,
     "start_time": "2023-01-15T13:38:23.794089",
     "status": "completed"
    },
    "tags": []
   },
   "outputs": [
    {
     "data": {
      "text/html": [
       "<div>\n",
       "<style scoped>\n",
       "    .dataframe tbody tr th:only-of-type {\n",
       "        vertical-align: middle;\n",
       "    }\n",
       "\n",
       "    .dataframe tbody tr th {\n",
       "        vertical-align: top;\n",
       "    }\n",
       "\n",
       "    .dataframe thead th {\n",
       "        text-align: right;\n",
       "    }\n",
       "</style>\n",
       "<table border=\"1\" class=\"dataframe\">\n",
       "  <thead>\n",
       "    <tr style=\"text-align: right;\">\n",
       "      <th></th>\n",
       "      <th>gender</th>\n",
       "      <th>SeniorCitizen</th>\n",
       "      <th>Partner</th>\n",
       "      <th>Dependents</th>\n",
       "      <th>tenure</th>\n",
       "      <th>PhoneService</th>\n",
       "      <th>MultipleLines</th>\n",
       "      <th>InternetService</th>\n",
       "      <th>OnlineSecurity</th>\n",
       "      <th>OnlineBackup</th>\n",
       "      <th>DeviceProtection</th>\n",
       "      <th>TechSupport</th>\n",
       "      <th>StreamingTV</th>\n",
       "      <th>StreamingMovies</th>\n",
       "      <th>Contract</th>\n",
       "      <th>PaperlessBilling</th>\n",
       "      <th>PaymentMethod</th>\n",
       "      <th>MonthlyCharges</th>\n",
       "      <th>TotalCharges</th>\n",
       "      <th>Churn</th>\n",
       "    </tr>\n",
       "  </thead>\n",
       "  <tbody>\n",
       "    <tr>\n",
       "      <th>488</th>\n",
       "      <td>Female</td>\n",
       "      <td>0</td>\n",
       "      <td>Yes</td>\n",
       "      <td>Yes</td>\n",
       "      <td>0</td>\n",
       "      <td>No</td>\n",
       "      <td>No phone service</td>\n",
       "      <td>DSL</td>\n",
       "      <td>Yes</td>\n",
       "      <td>No</td>\n",
       "      <td>Yes</td>\n",
       "      <td>Yes</td>\n",
       "      <td>Yes</td>\n",
       "      <td>No</td>\n",
       "      <td>Two year</td>\n",
       "      <td>Yes</td>\n",
       "      <td>Bank transfer (automatic)</td>\n",
       "      <td>52.55</td>\n",
       "      <td></td>\n",
       "      <td>No</td>\n",
       "    </tr>\n",
       "    <tr>\n",
       "      <th>753</th>\n",
       "      <td>Male</td>\n",
       "      <td>0</td>\n",
       "      <td>No</td>\n",
       "      <td>Yes</td>\n",
       "      <td>0</td>\n",
       "      <td>Yes</td>\n",
       "      <td>No</td>\n",
       "      <td>No</td>\n",
       "      <td>No internet service</td>\n",
       "      <td>No internet service</td>\n",
       "      <td>No internet service</td>\n",
       "      <td>No internet service</td>\n",
       "      <td>No internet service</td>\n",
       "      <td>No internet service</td>\n",
       "      <td>Two year</td>\n",
       "      <td>No</td>\n",
       "      <td>Mailed check</td>\n",
       "      <td>20.25</td>\n",
       "      <td></td>\n",
       "      <td>No</td>\n",
       "    </tr>\n",
       "    <tr>\n",
       "      <th>936</th>\n",
       "      <td>Female</td>\n",
       "      <td>0</td>\n",
       "      <td>Yes</td>\n",
       "      <td>Yes</td>\n",
       "      <td>0</td>\n",
       "      <td>Yes</td>\n",
       "      <td>No</td>\n",
       "      <td>DSL</td>\n",
       "      <td>Yes</td>\n",
       "      <td>Yes</td>\n",
       "      <td>Yes</td>\n",
       "      <td>No</td>\n",
       "      <td>Yes</td>\n",
       "      <td>Yes</td>\n",
       "      <td>Two year</td>\n",
       "      <td>No</td>\n",
       "      <td>Mailed check</td>\n",
       "      <td>80.85</td>\n",
       "      <td></td>\n",
       "      <td>No</td>\n",
       "    </tr>\n",
       "    <tr>\n",
       "      <th>1082</th>\n",
       "      <td>Male</td>\n",
       "      <td>0</td>\n",
       "      <td>Yes</td>\n",
       "      <td>Yes</td>\n",
       "      <td>0</td>\n",
       "      <td>Yes</td>\n",
       "      <td>Yes</td>\n",
       "      <td>No</td>\n",
       "      <td>No internet service</td>\n",
       "      <td>No internet service</td>\n",
       "      <td>No internet service</td>\n",
       "      <td>No internet service</td>\n",
       "      <td>No internet service</td>\n",
       "      <td>No internet service</td>\n",
       "      <td>Two year</td>\n",
       "      <td>No</td>\n",
       "      <td>Mailed check</td>\n",
       "      <td>25.75</td>\n",
       "      <td></td>\n",
       "      <td>No</td>\n",
       "    </tr>\n",
       "    <tr>\n",
       "      <th>1340</th>\n",
       "      <td>Female</td>\n",
       "      <td>0</td>\n",
       "      <td>Yes</td>\n",
       "      <td>Yes</td>\n",
       "      <td>0</td>\n",
       "      <td>No</td>\n",
       "      <td>No phone service</td>\n",
       "      <td>DSL</td>\n",
       "      <td>Yes</td>\n",
       "      <td>Yes</td>\n",
       "      <td>Yes</td>\n",
       "      <td>Yes</td>\n",
       "      <td>Yes</td>\n",
       "      <td>No</td>\n",
       "      <td>Two year</td>\n",
       "      <td>No</td>\n",
       "      <td>Credit card (automatic)</td>\n",
       "      <td>56.05</td>\n",
       "      <td></td>\n",
       "      <td>No</td>\n",
       "    </tr>\n",
       "    <tr>\n",
       "      <th>3331</th>\n",
       "      <td>Male</td>\n",
       "      <td>0</td>\n",
       "      <td>Yes</td>\n",
       "      <td>Yes</td>\n",
       "      <td>0</td>\n",
       "      <td>Yes</td>\n",
       "      <td>No</td>\n",
       "      <td>No</td>\n",
       "      <td>No internet service</td>\n",
       "      <td>No internet service</td>\n",
       "      <td>No internet service</td>\n",
       "      <td>No internet service</td>\n",
       "      <td>No internet service</td>\n",
       "      <td>No internet service</td>\n",
       "      <td>Two year</td>\n",
       "      <td>No</td>\n",
       "      <td>Mailed check</td>\n",
       "      <td>19.85</td>\n",
       "      <td></td>\n",
       "      <td>No</td>\n",
       "    </tr>\n",
       "    <tr>\n",
       "      <th>3826</th>\n",
       "      <td>Male</td>\n",
       "      <td>0</td>\n",
       "      <td>Yes</td>\n",
       "      <td>Yes</td>\n",
       "      <td>0</td>\n",
       "      <td>Yes</td>\n",
       "      <td>Yes</td>\n",
       "      <td>No</td>\n",
       "      <td>No internet service</td>\n",
       "      <td>No internet service</td>\n",
       "      <td>No internet service</td>\n",
       "      <td>No internet service</td>\n",
       "      <td>No internet service</td>\n",
       "      <td>No internet service</td>\n",
       "      <td>Two year</td>\n",
       "      <td>No</td>\n",
       "      <td>Mailed check</td>\n",
       "      <td>25.35</td>\n",
       "      <td></td>\n",
       "      <td>No</td>\n",
       "    </tr>\n",
       "    <tr>\n",
       "      <th>4380</th>\n",
       "      <td>Female</td>\n",
       "      <td>0</td>\n",
       "      <td>Yes</td>\n",
       "      <td>Yes</td>\n",
       "      <td>0</td>\n",
       "      <td>Yes</td>\n",
       "      <td>No</td>\n",
       "      <td>No</td>\n",
       "      <td>No internet service</td>\n",
       "      <td>No internet service</td>\n",
       "      <td>No internet service</td>\n",
       "      <td>No internet service</td>\n",
       "      <td>No internet service</td>\n",
       "      <td>No internet service</td>\n",
       "      <td>Two year</td>\n",
       "      <td>No</td>\n",
       "      <td>Mailed check</td>\n",
       "      <td>20.00</td>\n",
       "      <td></td>\n",
       "      <td>No</td>\n",
       "    </tr>\n",
       "    <tr>\n",
       "      <th>5218</th>\n",
       "      <td>Male</td>\n",
       "      <td>0</td>\n",
       "      <td>Yes</td>\n",
       "      <td>Yes</td>\n",
       "      <td>0</td>\n",
       "      <td>Yes</td>\n",
       "      <td>No</td>\n",
       "      <td>No</td>\n",
       "      <td>No internet service</td>\n",
       "      <td>No internet service</td>\n",
       "      <td>No internet service</td>\n",
       "      <td>No internet service</td>\n",
       "      <td>No internet service</td>\n",
       "      <td>No internet service</td>\n",
       "      <td>One year</td>\n",
       "      <td>Yes</td>\n",
       "      <td>Mailed check</td>\n",
       "      <td>19.70</td>\n",
       "      <td></td>\n",
       "      <td>No</td>\n",
       "    </tr>\n",
       "    <tr>\n",
       "      <th>6670</th>\n",
       "      <td>Female</td>\n",
       "      <td>0</td>\n",
       "      <td>Yes</td>\n",
       "      <td>Yes</td>\n",
       "      <td>0</td>\n",
       "      <td>Yes</td>\n",
       "      <td>Yes</td>\n",
       "      <td>DSL</td>\n",
       "      <td>No</td>\n",
       "      <td>Yes</td>\n",
       "      <td>Yes</td>\n",
       "      <td>Yes</td>\n",
       "      <td>Yes</td>\n",
       "      <td>No</td>\n",
       "      <td>Two year</td>\n",
       "      <td>No</td>\n",
       "      <td>Mailed check</td>\n",
       "      <td>73.35</td>\n",
       "      <td></td>\n",
       "      <td>No</td>\n",
       "    </tr>\n",
       "    <tr>\n",
       "      <th>6754</th>\n",
       "      <td>Male</td>\n",
       "      <td>0</td>\n",
       "      <td>No</td>\n",
       "      <td>Yes</td>\n",
       "      <td>0</td>\n",
       "      <td>Yes</td>\n",
       "      <td>Yes</td>\n",
       "      <td>DSL</td>\n",
       "      <td>Yes</td>\n",
       "      <td>Yes</td>\n",
       "      <td>No</td>\n",
       "      <td>Yes</td>\n",
       "      <td>No</td>\n",
       "      <td>No</td>\n",
       "      <td>Two year</td>\n",
       "      <td>Yes</td>\n",
       "      <td>Bank transfer (automatic)</td>\n",
       "      <td>61.90</td>\n",
       "      <td></td>\n",
       "      <td>No</td>\n",
       "    </tr>\n",
       "  </tbody>\n",
       "</table>\n",
       "</div>"
      ],
      "text/plain": [
       "      gender  SeniorCitizen Partner Dependents  tenure PhoneService  \\\n",
       "488   Female              0     Yes        Yes       0           No   \n",
       "753     Male              0      No        Yes       0          Yes   \n",
       "936   Female              0     Yes        Yes       0          Yes   \n",
       "1082    Male              0     Yes        Yes       0          Yes   \n",
       "1340  Female              0     Yes        Yes       0           No   \n",
       "3331    Male              0     Yes        Yes       0          Yes   \n",
       "3826    Male              0     Yes        Yes       0          Yes   \n",
       "4380  Female              0     Yes        Yes       0          Yes   \n",
       "5218    Male              0     Yes        Yes       0          Yes   \n",
       "6670  Female              0     Yes        Yes       0          Yes   \n",
       "6754    Male              0      No        Yes       0          Yes   \n",
       "\n",
       "         MultipleLines InternetService       OnlineSecurity  \\\n",
       "488   No phone service             DSL                  Yes   \n",
       "753                 No              No  No internet service   \n",
       "936                 No             DSL                  Yes   \n",
       "1082               Yes              No  No internet service   \n",
       "1340  No phone service             DSL                  Yes   \n",
       "3331                No              No  No internet service   \n",
       "3826               Yes              No  No internet service   \n",
       "4380                No              No  No internet service   \n",
       "5218                No              No  No internet service   \n",
       "6670               Yes             DSL                   No   \n",
       "6754               Yes             DSL                  Yes   \n",
       "\n",
       "             OnlineBackup     DeviceProtection          TechSupport  \\\n",
       "488                    No                  Yes                  Yes   \n",
       "753   No internet service  No internet service  No internet service   \n",
       "936                   Yes                  Yes                   No   \n",
       "1082  No internet service  No internet service  No internet service   \n",
       "1340                  Yes                  Yes                  Yes   \n",
       "3331  No internet service  No internet service  No internet service   \n",
       "3826  No internet service  No internet service  No internet service   \n",
       "4380  No internet service  No internet service  No internet service   \n",
       "5218  No internet service  No internet service  No internet service   \n",
       "6670                  Yes                  Yes                  Yes   \n",
       "6754                  Yes                   No                  Yes   \n",
       "\n",
       "              StreamingTV      StreamingMovies  Contract PaperlessBilling  \\\n",
       "488                   Yes                   No  Two year              Yes   \n",
       "753   No internet service  No internet service  Two year               No   \n",
       "936                   Yes                  Yes  Two year               No   \n",
       "1082  No internet service  No internet service  Two year               No   \n",
       "1340                  Yes                   No  Two year               No   \n",
       "3331  No internet service  No internet service  Two year               No   \n",
       "3826  No internet service  No internet service  Two year               No   \n",
       "4380  No internet service  No internet service  Two year               No   \n",
       "5218  No internet service  No internet service  One year              Yes   \n",
       "6670                  Yes                   No  Two year               No   \n",
       "6754                   No                   No  Two year              Yes   \n",
       "\n",
       "                  PaymentMethod  MonthlyCharges TotalCharges Churn  \n",
       "488   Bank transfer (automatic)           52.55                 No  \n",
       "753                Mailed check           20.25                 No  \n",
       "936                Mailed check           80.85                 No  \n",
       "1082               Mailed check           25.75                 No  \n",
       "1340    Credit card (automatic)           56.05                 No  \n",
       "3331               Mailed check           19.85                 No  \n",
       "3826               Mailed check           25.35                 No  \n",
       "4380               Mailed check           20.00                 No  \n",
       "5218               Mailed check           19.70                 No  \n",
       "6670               Mailed check           73.35                 No  \n",
       "6754  Bank transfer (automatic)           61.90                 No  "
      ]
     },
     "execution_count": 7,
     "metadata": {},
     "output_type": "execute_result"
    }
   ],
   "source": [
    "df[pd.to_numeric(df.TotalCharges,errors='coerce').isnull()]"
   ]
  },
  {
   "cell_type": "code",
   "execution_count": 8,
   "id": "bba881de",
   "metadata": {
    "execution": {
     "iopub.execute_input": "2023-01-15T13:38:24.041615Z",
     "iopub.status.busy": "2023-01-15T13:38:24.041171Z",
     "iopub.status.idle": "2023-01-15T13:38:24.049435Z",
     "shell.execute_reply": "2023-01-15T13:38:24.048174Z"
    },
    "papermill": {
     "duration": 0.024247,
     "end_time": "2023-01-15T13:38:24.051942",
     "exception": false,
     "start_time": "2023-01-15T13:38:24.027695",
     "status": "completed"
    },
    "tags": []
   },
   "outputs": [
    {
     "data": {
      "text/plain": [
       "(7043, 20)"
      ]
     },
     "execution_count": 8,
     "metadata": {},
     "output_type": "execute_result"
    }
   ],
   "source": [
    "df.shape"
   ]
  },
  {
   "cell_type": "code",
   "execution_count": 9,
   "id": "62a49c14",
   "metadata": {
    "execution": {
     "iopub.execute_input": "2023-01-15T13:38:24.080242Z",
     "iopub.status.busy": "2023-01-15T13:38:24.079701Z",
     "iopub.status.idle": "2023-01-15T13:38:24.087923Z",
     "shell.execute_reply": "2023-01-15T13:38:24.086611Z"
    },
    "papermill": {
     "duration": 0.025339,
     "end_time": "2023-01-15T13:38:24.090556",
     "exception": false,
     "start_time": "2023-01-15T13:38:24.065217",
     "status": "completed"
    },
    "tags": []
   },
   "outputs": [
    {
     "data": {
      "text/plain": [
       "' '"
      ]
     },
     "execution_count": 9,
     "metadata": {},
     "output_type": "execute_result"
    }
   ],
   "source": [
    "df.iloc[488].TotalCharges"
   ]
  },
  {
   "cell_type": "code",
   "execution_count": 10,
   "id": "e77f947a",
   "metadata": {
    "execution": {
     "iopub.execute_input": "2023-01-15T13:38:24.119025Z",
     "iopub.status.busy": "2023-01-15T13:38:24.118544Z",
     "iopub.status.idle": "2023-01-15T13:38:24.130378Z",
     "shell.execute_reply": "2023-01-15T13:38:24.129016Z"
    },
    "papermill": {
     "duration": 0.029379,
     "end_time": "2023-01-15T13:38:24.133345",
     "exception": false,
     "start_time": "2023-01-15T13:38:24.103966",
     "status": "completed"
    },
    "tags": []
   },
   "outputs": [
    {
     "data": {
      "text/plain": [
       "(7032, 20)"
      ]
     },
     "execution_count": 10,
     "metadata": {},
     "output_type": "execute_result"
    }
   ],
   "source": [
    "df[df.TotalCharges!=' '].shape"
   ]
  },
  {
   "cell_type": "markdown",
   "id": "b5ac78ed",
   "metadata": {
    "papermill": {
     "duration": 0.014799,
     "end_time": "2023-01-15T13:38:24.162046",
     "exception": false,
     "start_time": "2023-01-15T13:38:24.147247",
     "status": "completed"
    },
    "tags": []
   },
   "source": [
    "We should remove rows with space in TotalCharges"
   ]
  },
  {
   "cell_type": "code",
   "execution_count": 11,
   "id": "06d4e24f",
   "metadata": {
    "execution": {
     "iopub.execute_input": "2023-01-15T13:38:24.191985Z",
     "iopub.status.busy": "2023-01-15T13:38:24.191532Z",
     "iopub.status.idle": "2023-01-15T13:38:24.202958Z",
     "shell.execute_reply": "2023-01-15T13:38:24.201678Z"
    },
    "papermill": {
     "duration": 0.029311,
     "end_time": "2023-01-15T13:38:24.205470",
     "exception": false,
     "start_time": "2023-01-15T13:38:24.176159",
     "status": "completed"
    },
    "tags": []
   },
   "outputs": [
    {
     "data": {
      "text/plain": [
       "(7032, 20)"
      ]
     },
     "execution_count": 11,
     "metadata": {},
     "output_type": "execute_result"
    }
   ],
   "source": [
    "df1 = df[df.TotalCharges!=' ']\n",
    "df1.shape"
   ]
  },
  {
   "cell_type": "code",
   "execution_count": 12,
   "id": "e7243a0b",
   "metadata": {
    "execution": {
     "iopub.execute_input": "2023-01-15T13:38:24.233147Z",
     "iopub.status.busy": "2023-01-15T13:38:24.232726Z",
     "iopub.status.idle": "2023-01-15T13:38:24.242375Z",
     "shell.execute_reply": "2023-01-15T13:38:24.241155Z"
    },
    "papermill": {
     "duration": 0.026046,
     "end_time": "2023-01-15T13:38:24.244745",
     "exception": false,
     "start_time": "2023-01-15T13:38:24.218699",
     "status": "completed"
    },
    "tags": []
   },
   "outputs": [
    {
     "data": {
      "text/plain": [
       "gender               object\n",
       "SeniorCitizen         int64\n",
       "Partner              object\n",
       "Dependents           object\n",
       "tenure                int64\n",
       "PhoneService         object\n",
       "MultipleLines        object\n",
       "InternetService      object\n",
       "OnlineSecurity       object\n",
       "OnlineBackup         object\n",
       "DeviceProtection     object\n",
       "TechSupport          object\n",
       "StreamingTV          object\n",
       "StreamingMovies      object\n",
       "Contract             object\n",
       "PaperlessBilling     object\n",
       "PaymentMethod        object\n",
       "MonthlyCharges      float64\n",
       "TotalCharges         object\n",
       "Churn                object\n",
       "dtype: object"
      ]
     },
     "execution_count": 12,
     "metadata": {},
     "output_type": "execute_result"
    }
   ],
   "source": [
    "df1.dtypes"
   ]
  },
  {
   "cell_type": "code",
   "execution_count": 13,
   "id": "8ed3134e",
   "metadata": {
    "execution": {
     "iopub.execute_input": "2023-01-15T13:38:24.272302Z",
     "iopub.status.busy": "2023-01-15T13:38:24.271852Z",
     "iopub.status.idle": "2023-01-15T13:38:24.288481Z",
     "shell.execute_reply": "2023-01-15T13:38:24.287054Z"
    },
    "papermill": {
     "duration": 0.033819,
     "end_time": "2023-01-15T13:38:24.291388",
     "exception": false,
     "start_time": "2023-01-15T13:38:24.257569",
     "status": "completed"
    },
    "tags": []
   },
   "outputs": [
    {
     "name": "stderr",
     "output_type": "stream",
     "text": [
      "/opt/conda/lib/python3.7/site-packages/pandas/core/generic.py:5516: SettingWithCopyWarning: \n",
      "A value is trying to be set on a copy of a slice from a DataFrame.\n",
      "Try using .loc[row_indexer,col_indexer] = value instead\n",
      "\n",
      "See the caveats in the documentation: https://pandas.pydata.org/pandas-docs/stable/user_guide/indexing.html#returning-a-view-versus-a-copy\n",
      "  self[name] = value\n"
     ]
    }
   ],
   "source": [
    "\n",
    "df1.TotalCharges = pd.to_numeric(df1.TotalCharges)"
   ]
  },
  {
   "cell_type": "code",
   "execution_count": 14,
   "id": "28c23d9f",
   "metadata": {
    "execution": {
     "iopub.execute_input": "2023-01-15T13:38:24.320969Z",
     "iopub.status.busy": "2023-01-15T13:38:24.319612Z",
     "iopub.status.idle": "2023-01-15T13:38:24.328935Z",
     "shell.execute_reply": "2023-01-15T13:38:24.327684Z"
    },
    "papermill": {
     "duration": 0.0263,
     "end_time": "2023-01-15T13:38:24.331318",
     "exception": false,
     "start_time": "2023-01-15T13:38:24.305018",
     "status": "completed"
    },
    "tags": []
   },
   "outputs": [
    {
     "data": {
      "text/plain": [
       "array([  29.85, 1889.5 ,  108.15, ...,  346.45,  306.6 , 6844.5 ])"
      ]
     },
     "execution_count": 14,
     "metadata": {},
     "output_type": "execute_result"
    }
   ],
   "source": [
    "df1.TotalCharges.values"
   ]
  },
  {
   "cell_type": "code",
   "execution_count": 15,
   "id": "f27204c7",
   "metadata": {
    "execution": {
     "iopub.execute_input": "2023-01-15T13:38:24.361137Z",
     "iopub.status.busy": "2023-01-15T13:38:24.360674Z",
     "iopub.status.idle": "2023-01-15T13:38:24.393978Z",
     "shell.execute_reply": "2023-01-15T13:38:24.392502Z"
    },
    "papermill": {
     "duration": 0.052272,
     "end_time": "2023-01-15T13:38:24.397468",
     "exception": false,
     "start_time": "2023-01-15T13:38:24.345196",
     "status": "completed"
    },
    "tags": []
   },
   "outputs": [
    {
     "data": {
      "text/html": [
       "<div>\n",
       "<style scoped>\n",
       "    .dataframe tbody tr th:only-of-type {\n",
       "        vertical-align: middle;\n",
       "    }\n",
       "\n",
       "    .dataframe tbody tr th {\n",
       "        vertical-align: top;\n",
       "    }\n",
       "\n",
       "    .dataframe thead th {\n",
       "        text-align: right;\n",
       "    }\n",
       "</style>\n",
       "<table border=\"1\" class=\"dataframe\">\n",
       "  <thead>\n",
       "    <tr style=\"text-align: right;\">\n",
       "      <th></th>\n",
       "      <th>gender</th>\n",
       "      <th>SeniorCitizen</th>\n",
       "      <th>Partner</th>\n",
       "      <th>Dependents</th>\n",
       "      <th>tenure</th>\n",
       "      <th>PhoneService</th>\n",
       "      <th>MultipleLines</th>\n",
       "      <th>InternetService</th>\n",
       "      <th>OnlineSecurity</th>\n",
       "      <th>OnlineBackup</th>\n",
       "      <th>DeviceProtection</th>\n",
       "      <th>TechSupport</th>\n",
       "      <th>StreamingTV</th>\n",
       "      <th>StreamingMovies</th>\n",
       "      <th>Contract</th>\n",
       "      <th>PaperlessBilling</th>\n",
       "      <th>PaymentMethod</th>\n",
       "      <th>MonthlyCharges</th>\n",
       "      <th>TotalCharges</th>\n",
       "      <th>Churn</th>\n",
       "    </tr>\n",
       "  </thead>\n",
       "  <tbody>\n",
       "    <tr>\n",
       "      <th>0</th>\n",
       "      <td>Female</td>\n",
       "      <td>0</td>\n",
       "      <td>Yes</td>\n",
       "      <td>No</td>\n",
       "      <td>1</td>\n",
       "      <td>No</td>\n",
       "      <td>No phone service</td>\n",
       "      <td>DSL</td>\n",
       "      <td>No</td>\n",
       "      <td>Yes</td>\n",
       "      <td>No</td>\n",
       "      <td>No</td>\n",
       "      <td>No</td>\n",
       "      <td>No</td>\n",
       "      <td>Month-to-month</td>\n",
       "      <td>Yes</td>\n",
       "      <td>Electronic check</td>\n",
       "      <td>29.85</td>\n",
       "      <td>29.85</td>\n",
       "      <td>No</td>\n",
       "    </tr>\n",
       "    <tr>\n",
       "      <th>1</th>\n",
       "      <td>Male</td>\n",
       "      <td>0</td>\n",
       "      <td>No</td>\n",
       "      <td>No</td>\n",
       "      <td>34</td>\n",
       "      <td>Yes</td>\n",
       "      <td>No</td>\n",
       "      <td>DSL</td>\n",
       "      <td>Yes</td>\n",
       "      <td>No</td>\n",
       "      <td>Yes</td>\n",
       "      <td>No</td>\n",
       "      <td>No</td>\n",
       "      <td>No</td>\n",
       "      <td>One year</td>\n",
       "      <td>No</td>\n",
       "      <td>Mailed check</td>\n",
       "      <td>56.95</td>\n",
       "      <td>1889.50</td>\n",
       "      <td>No</td>\n",
       "    </tr>\n",
       "    <tr>\n",
       "      <th>3</th>\n",
       "      <td>Male</td>\n",
       "      <td>0</td>\n",
       "      <td>No</td>\n",
       "      <td>No</td>\n",
       "      <td>45</td>\n",
       "      <td>No</td>\n",
       "      <td>No phone service</td>\n",
       "      <td>DSL</td>\n",
       "      <td>Yes</td>\n",
       "      <td>No</td>\n",
       "      <td>Yes</td>\n",
       "      <td>Yes</td>\n",
       "      <td>No</td>\n",
       "      <td>No</td>\n",
       "      <td>One year</td>\n",
       "      <td>No</td>\n",
       "      <td>Bank transfer (automatic)</td>\n",
       "      <td>42.30</td>\n",
       "      <td>1840.75</td>\n",
       "      <td>No</td>\n",
       "    </tr>\n",
       "    <tr>\n",
       "      <th>6</th>\n",
       "      <td>Male</td>\n",
       "      <td>0</td>\n",
       "      <td>No</td>\n",
       "      <td>Yes</td>\n",
       "      <td>22</td>\n",
       "      <td>Yes</td>\n",
       "      <td>Yes</td>\n",
       "      <td>Fiber optic</td>\n",
       "      <td>No</td>\n",
       "      <td>Yes</td>\n",
       "      <td>No</td>\n",
       "      <td>No</td>\n",
       "      <td>Yes</td>\n",
       "      <td>No</td>\n",
       "      <td>Month-to-month</td>\n",
       "      <td>Yes</td>\n",
       "      <td>Credit card (automatic)</td>\n",
       "      <td>89.10</td>\n",
       "      <td>1949.40</td>\n",
       "      <td>No</td>\n",
       "    </tr>\n",
       "    <tr>\n",
       "      <th>7</th>\n",
       "      <td>Female</td>\n",
       "      <td>0</td>\n",
       "      <td>No</td>\n",
       "      <td>No</td>\n",
       "      <td>10</td>\n",
       "      <td>No</td>\n",
       "      <td>No phone service</td>\n",
       "      <td>DSL</td>\n",
       "      <td>Yes</td>\n",
       "      <td>No</td>\n",
       "      <td>No</td>\n",
       "      <td>No</td>\n",
       "      <td>No</td>\n",
       "      <td>No</td>\n",
       "      <td>Month-to-month</td>\n",
       "      <td>No</td>\n",
       "      <td>Mailed check</td>\n",
       "      <td>29.75</td>\n",
       "      <td>301.90</td>\n",
       "      <td>No</td>\n",
       "    </tr>\n",
       "    <tr>\n",
       "      <th>...</th>\n",
       "      <td>...</td>\n",
       "      <td>...</td>\n",
       "      <td>...</td>\n",
       "      <td>...</td>\n",
       "      <td>...</td>\n",
       "      <td>...</td>\n",
       "      <td>...</td>\n",
       "      <td>...</td>\n",
       "      <td>...</td>\n",
       "      <td>...</td>\n",
       "      <td>...</td>\n",
       "      <td>...</td>\n",
       "      <td>...</td>\n",
       "      <td>...</td>\n",
       "      <td>...</td>\n",
       "      <td>...</td>\n",
       "      <td>...</td>\n",
       "      <td>...</td>\n",
       "      <td>...</td>\n",
       "      <td>...</td>\n",
       "    </tr>\n",
       "    <tr>\n",
       "      <th>7037</th>\n",
       "      <td>Female</td>\n",
       "      <td>0</td>\n",
       "      <td>No</td>\n",
       "      <td>No</td>\n",
       "      <td>72</td>\n",
       "      <td>Yes</td>\n",
       "      <td>No</td>\n",
       "      <td>No</td>\n",
       "      <td>No internet service</td>\n",
       "      <td>No internet service</td>\n",
       "      <td>No internet service</td>\n",
       "      <td>No internet service</td>\n",
       "      <td>No internet service</td>\n",
       "      <td>No internet service</td>\n",
       "      <td>Two year</td>\n",
       "      <td>Yes</td>\n",
       "      <td>Bank transfer (automatic)</td>\n",
       "      <td>21.15</td>\n",
       "      <td>1419.40</td>\n",
       "      <td>No</td>\n",
       "    </tr>\n",
       "    <tr>\n",
       "      <th>7038</th>\n",
       "      <td>Male</td>\n",
       "      <td>0</td>\n",
       "      <td>Yes</td>\n",
       "      <td>Yes</td>\n",
       "      <td>24</td>\n",
       "      <td>Yes</td>\n",
       "      <td>Yes</td>\n",
       "      <td>DSL</td>\n",
       "      <td>Yes</td>\n",
       "      <td>No</td>\n",
       "      <td>Yes</td>\n",
       "      <td>Yes</td>\n",
       "      <td>Yes</td>\n",
       "      <td>Yes</td>\n",
       "      <td>One year</td>\n",
       "      <td>Yes</td>\n",
       "      <td>Mailed check</td>\n",
       "      <td>84.80</td>\n",
       "      <td>1990.50</td>\n",
       "      <td>No</td>\n",
       "    </tr>\n",
       "    <tr>\n",
       "      <th>7039</th>\n",
       "      <td>Female</td>\n",
       "      <td>0</td>\n",
       "      <td>Yes</td>\n",
       "      <td>Yes</td>\n",
       "      <td>72</td>\n",
       "      <td>Yes</td>\n",
       "      <td>Yes</td>\n",
       "      <td>Fiber optic</td>\n",
       "      <td>No</td>\n",
       "      <td>Yes</td>\n",
       "      <td>Yes</td>\n",
       "      <td>No</td>\n",
       "      <td>Yes</td>\n",
       "      <td>Yes</td>\n",
       "      <td>One year</td>\n",
       "      <td>Yes</td>\n",
       "      <td>Credit card (automatic)</td>\n",
       "      <td>103.20</td>\n",
       "      <td>7362.90</td>\n",
       "      <td>No</td>\n",
       "    </tr>\n",
       "    <tr>\n",
       "      <th>7040</th>\n",
       "      <td>Female</td>\n",
       "      <td>0</td>\n",
       "      <td>Yes</td>\n",
       "      <td>Yes</td>\n",
       "      <td>11</td>\n",
       "      <td>No</td>\n",
       "      <td>No phone service</td>\n",
       "      <td>DSL</td>\n",
       "      <td>Yes</td>\n",
       "      <td>No</td>\n",
       "      <td>No</td>\n",
       "      <td>No</td>\n",
       "      <td>No</td>\n",
       "      <td>No</td>\n",
       "      <td>Month-to-month</td>\n",
       "      <td>Yes</td>\n",
       "      <td>Electronic check</td>\n",
       "      <td>29.60</td>\n",
       "      <td>346.45</td>\n",
       "      <td>No</td>\n",
       "    </tr>\n",
       "    <tr>\n",
       "      <th>7042</th>\n",
       "      <td>Male</td>\n",
       "      <td>0</td>\n",
       "      <td>No</td>\n",
       "      <td>No</td>\n",
       "      <td>66</td>\n",
       "      <td>Yes</td>\n",
       "      <td>No</td>\n",
       "      <td>Fiber optic</td>\n",
       "      <td>Yes</td>\n",
       "      <td>No</td>\n",
       "      <td>Yes</td>\n",
       "      <td>Yes</td>\n",
       "      <td>Yes</td>\n",
       "      <td>Yes</td>\n",
       "      <td>Two year</td>\n",
       "      <td>Yes</td>\n",
       "      <td>Bank transfer (automatic)</td>\n",
       "      <td>105.65</td>\n",
       "      <td>6844.50</td>\n",
       "      <td>No</td>\n",
       "    </tr>\n",
       "  </tbody>\n",
       "</table>\n",
       "<p>5163 rows × 20 columns</p>\n",
       "</div>"
      ],
      "text/plain": [
       "      gender  SeniorCitizen Partner Dependents  tenure PhoneService  \\\n",
       "0     Female              0     Yes         No       1           No   \n",
       "1       Male              0      No         No      34          Yes   \n",
       "3       Male              0      No         No      45           No   \n",
       "6       Male              0      No        Yes      22          Yes   \n",
       "7     Female              0      No         No      10           No   \n",
       "...      ...            ...     ...        ...     ...          ...   \n",
       "7037  Female              0      No         No      72          Yes   \n",
       "7038    Male              0     Yes        Yes      24          Yes   \n",
       "7039  Female              0     Yes        Yes      72          Yes   \n",
       "7040  Female              0     Yes        Yes      11           No   \n",
       "7042    Male              0      No         No      66          Yes   \n",
       "\n",
       "         MultipleLines InternetService       OnlineSecurity  \\\n",
       "0     No phone service             DSL                   No   \n",
       "1                   No             DSL                  Yes   \n",
       "3     No phone service             DSL                  Yes   \n",
       "6                  Yes     Fiber optic                   No   \n",
       "7     No phone service             DSL                  Yes   \n",
       "...                ...             ...                  ...   \n",
       "7037                No              No  No internet service   \n",
       "7038               Yes             DSL                  Yes   \n",
       "7039               Yes     Fiber optic                   No   \n",
       "7040  No phone service             DSL                  Yes   \n",
       "7042                No     Fiber optic                  Yes   \n",
       "\n",
       "             OnlineBackup     DeviceProtection          TechSupport  \\\n",
       "0                     Yes                   No                   No   \n",
       "1                      No                  Yes                   No   \n",
       "3                      No                  Yes                  Yes   \n",
       "6                     Yes                   No                   No   \n",
       "7                      No                   No                   No   \n",
       "...                   ...                  ...                  ...   \n",
       "7037  No internet service  No internet service  No internet service   \n",
       "7038                   No                  Yes                  Yes   \n",
       "7039                  Yes                  Yes                   No   \n",
       "7040                   No                   No                   No   \n",
       "7042                   No                  Yes                  Yes   \n",
       "\n",
       "              StreamingTV      StreamingMovies        Contract  \\\n",
       "0                      No                   No  Month-to-month   \n",
       "1                      No                   No        One year   \n",
       "3                      No                   No        One year   \n",
       "6                     Yes                   No  Month-to-month   \n",
       "7                      No                   No  Month-to-month   \n",
       "...                   ...                  ...             ...   \n",
       "7037  No internet service  No internet service        Two year   \n",
       "7038                  Yes                  Yes        One year   \n",
       "7039                  Yes                  Yes        One year   \n",
       "7040                   No                   No  Month-to-month   \n",
       "7042                  Yes                  Yes        Two year   \n",
       "\n",
       "     PaperlessBilling              PaymentMethod  MonthlyCharges  \\\n",
       "0                 Yes           Electronic check           29.85   \n",
       "1                  No               Mailed check           56.95   \n",
       "3                  No  Bank transfer (automatic)           42.30   \n",
       "6                 Yes    Credit card (automatic)           89.10   \n",
       "7                  No               Mailed check           29.75   \n",
       "...               ...                        ...             ...   \n",
       "7037              Yes  Bank transfer (automatic)           21.15   \n",
       "7038              Yes               Mailed check           84.80   \n",
       "7039              Yes    Credit card (automatic)          103.20   \n",
       "7040              Yes           Electronic check           29.60   \n",
       "7042              Yes  Bank transfer (automatic)          105.65   \n",
       "\n",
       "      TotalCharges Churn  \n",
       "0            29.85    No  \n",
       "1          1889.50    No  \n",
       "3          1840.75    No  \n",
       "6          1949.40    No  \n",
       "7           301.90    No  \n",
       "...            ...   ...  \n",
       "7037       1419.40    No  \n",
       "7038       1990.50    No  \n",
       "7039       7362.90    No  \n",
       "7040        346.45    No  \n",
       "7042       6844.50    No  \n",
       "\n",
       "[5163 rows x 20 columns]"
      ]
     },
     "execution_count": 15,
     "metadata": {},
     "output_type": "execute_result"
    }
   ],
   "source": [
    "\n",
    "df1[df1.Churn=='No']"
   ]
  },
  {
   "cell_type": "markdown",
   "id": "28658d90",
   "metadata": {
    "papermill": {
     "duration": 0.015314,
     "end_time": "2023-01-15T13:38:24.428458",
     "exception": false,
     "start_time": "2023-01-15T13:38:24.413144",
     "status": "completed"
    },
    "tags": []
   },
   "source": [
    "### Data Visualization"
   ]
  },
  {
   "cell_type": "code",
   "execution_count": 16,
   "id": "2e005f8b",
   "metadata": {
    "execution": {
     "iopub.execute_input": "2023-01-15T13:38:24.460038Z",
     "iopub.status.busy": "2023-01-15T13:38:24.459605Z",
     "iopub.status.idle": "2023-01-15T13:38:24.743140Z",
     "shell.execute_reply": "2023-01-15T13:38:24.741697Z"
    },
    "papermill": {
     "duration": 0.303001,
     "end_time": "2023-01-15T13:38:24.746166",
     "exception": false,
     "start_time": "2023-01-15T13:38:24.443165",
     "status": "completed"
    },
    "tags": []
   },
   "outputs": [
    {
     "data": {
      "text/plain": [
       "Text(0.5, 1.0, 'Average Tenure for Customers Who Churned vs. Those Who Did Not')"
      ]
     },
     "execution_count": 16,
     "metadata": {},
     "output_type": "execute_result"
    },
    {
     "data": {
      "image/png": "[encoded data removed]",
      "text/plain": [
       "<Figure size 432x288 with 1 Axes>"
      ]
     },
     "metadata": {
      "needs_background": "light"
     },
     "output_type": "display_data"
    }
   ],
   "source": [
    "df1.groupby('Churn')['tenure'].mean().plot(kind='bar', color=['red', 'green'])\n",
    "\n",
    "# Add labels and a title\n",
    "plt.xlabel(\"Churn Status\")\n",
    "plt.ylabel(\"Average Tenure (months)\")\n",
    "plt.title(\"Average Tenure for Customers Who Churned vs. Those Who Did Not\")"
   ]
  },
  {
   "cell_type": "code",
   "execution_count": 17,
   "id": "7cedc27f",
   "metadata": {
    "execution": {
     "iopub.execute_input": "2023-01-15T13:38:24.779825Z",
     "iopub.status.busy": "2023-01-15T13:38:24.779391Z",
     "iopub.status.idle": "2023-01-15T13:38:25.121995Z",
     "shell.execute_reply": "2023-01-15T13:38:25.120727Z"
    },
    "papermill": {
     "duration": 0.362831,
     "end_time": "2023-01-15T13:38:25.124729",
     "exception": false,
     "start_time": "2023-01-15T13:38:24.761898",
     "status": "completed"
    },
    "tags": []
   },
   "outputs": [
    {
     "data": {
      "text/plain": [
       "<matplotlib.legend.Legend at 0x7f2548549610>"
      ]
     },
     "execution_count": 17,
     "metadata": {},
     "output_type": "execute_result"
    },
    {
     "data": {
      "image/png": "[encoded data removed]",
      "text/plain": [
       "<Figure size 432x288 with 1 Axes>"
      ]
     },
     "metadata": {
      "needs_background": "light"
     },
     "output_type": "display_data"
    }
   ],
   "source": [
    "tenure_churn_no = df1[df1.Churn=='No'].tenure\n",
    "tenure_churn_yes = df1[df1.Churn=='Yes'].tenure\n",
    "\n",
    "plt.xlabel(\"tenure\")\n",
    "plt.ylabel(\"Number Of Customers\")\n",
    "plt.title(\"Customer Churn Prediction Visualiztion\")\n",
    "\n",
    "blood_sugar_men = [113, 85, 90, 150, 149, 88, 93, 115, 135, 80, 77, 82, 129]\n",
    "blood_sugar_women = [67, 98, 89, 120, 133, 150, 84, 69, 89, 79, 120, 112, 100]\n",
    "\n",
    "plt.hist([tenure_churn_yes, tenure_churn_no], rwidth=0.95, color=['green','red'],label=['Churn=Yes','Churn=No'])\n",
    "plt.legend()"
   ]
  },
  {
   "cell_type": "code",
   "execution_count": 18,
   "id": "4a5b4002",
   "metadata": {
    "execution": {
     "iopub.execute_input": "2023-01-15T13:38:25.157360Z",
     "iopub.status.busy": "2023-01-15T13:38:25.156919Z",
     "iopub.status.idle": "2023-01-15T13:38:25.414661Z",
     "shell.execute_reply": "2023-01-15T13:38:25.413141Z"
    },
    "papermill": {
     "duration": 0.277782,
     "end_time": "2023-01-15T13:38:25.417598",
     "exception": false,
     "start_time": "2023-01-15T13:38:25.139816",
     "status": "completed"
    },
    "tags": []
   },
   "outputs": [
    {
     "data": {
      "text/plain": [
       "<matplotlib.legend.Legend at 0x7f25484db590>"
      ]
     },
     "execution_count": 18,
     "metadata": {},
     "output_type": "execute_result"
    },
    {
     "data": {
      "image/png": "[encoded data removed]",
      "text/plain": [
       "<Figure size 432x288 with 1 Axes>"
      ]
     },
     "metadata": {
      "needs_background": "light"
     },
     "output_type": "display_data"
    }
   ],
   "source": [
    "mc_churn_no = df1[df1.Churn=='No'].MonthlyCharges      \n",
    "mc_churn_yes = df1[df1.Churn=='Yes'].MonthlyCharges      \n",
    "\n",
    "plt.xlabel(\"Monthly Charges\")\n",
    "plt.ylabel(\"Number Of Customers\")\n",
    "plt.title(\"Customer Churn Prediction Visualiztion\")\n",
    "\n",
    "blood_sugar_men = [113, 85, 90, 150, 149, 88, 93, 115, 135, 80, 77, 82, 129]\n",
    "blood_sugar_women = [67, 98, 89, 120, 133, 150, 84, 69, 89, 79, 120, 112, 100]\n",
    "\n",
    "plt.hist([mc_churn_yes, mc_churn_no], rwidth=0.95, color=['green','red'],label=['Churn=Yes','Churn=No'])\n",
    "plt.legend()"
   ]
  },
  {
   "cell_type": "code",
   "execution_count": 19,
   "id": "d7080bd0",
   "metadata": {
    "execution": {
     "iopub.execute_input": "2023-01-15T13:38:25.451769Z",
     "iopub.status.busy": "2023-01-15T13:38:25.450435Z",
     "iopub.status.idle": "2023-01-15T13:38:25.457927Z",
     "shell.execute_reply": "2023-01-15T13:38:25.456511Z"
    },
    "papermill": {
     "duration": 0.027324,
     "end_time": "2023-01-15T13:38:25.460592",
     "exception": false,
     "start_time": "2023-01-15T13:38:25.433268",
     "status": "completed"
    },
    "tags": []
   },
   "outputs": [],
   "source": [
    "def print_unique_col_values(df):\n",
    "    for column in df:\n",
    "        if df[column].dtypes == 'object':\n",
    "            print(f'{column}:{df[column].unique()}')"
   ]
  },
  {
   "cell_type": "code",
   "execution_count": 20,
   "id": "cb59bb23",
   "metadata": {
    "execution": {
     "iopub.execute_input": "2023-01-15T13:38:25.497930Z",
     "iopub.status.busy": "2023-01-15T13:38:25.497204Z",
     "iopub.status.idle": "2023-01-15T13:38:25.517251Z",
     "shell.execute_reply": "2023-01-15T13:38:25.515844Z"
    },
    "papermill": {
     "duration": 0.0422,
     "end_time": "2023-01-15T13:38:25.519906",
     "exception": false,
     "start_time": "2023-01-15T13:38:25.477706",
     "status": "completed"
    },
    "tags": []
   },
   "outputs": [
    {
     "name": "stdout",
     "output_type": "stream",
     "text": [
      "gender:['Female' 'Male']\n",
      "Partner:['Yes' 'No']\n",
      "Dependents:['No' 'Yes']\n",
      "PhoneService:['No' 'Yes']\n",
      "MultipleLines:['No phone service' 'No' 'Yes']\n",
      "InternetService:['DSL' 'Fiber optic' 'No']\n",
      "OnlineSecurity:['No' 'Yes' 'No internet service']\n",
      "OnlineBackup:['Yes' 'No' 'No internet service']\n",
      "DeviceProtection:['No' 'Yes' 'No internet service']\n",
      "TechSupport:['No' 'Yes' 'No internet service']\n",
      "StreamingTV:['No' 'Yes' 'No internet service']\n",
      "StreamingMovies:['No' 'Yes' 'No internet service']\n",
      "Contract:['Month-to-month' 'One year' 'Two year']\n",
      "PaperlessBilling:['Yes' 'No']\n",
      "PaymentMethod:['Electronic check' 'Mailed check' 'Bank transfer (automatic)'\n",
      " 'Credit card (automatic)']\n",
      "Churn:['No' 'Yes']\n"
     ]
    }
   ],
   "source": [
    "print_unique_col_values(df1)"
   ]
  },
  {
   "cell_type": "code",
   "execution_count": 21,
   "id": "b769ef4d",
   "metadata": {
    "execution": {
     "iopub.execute_input": "2023-01-15T13:38:25.554689Z",
     "iopub.status.busy": "2023-01-15T13:38:25.553932Z",
     "iopub.status.idle": "2023-01-15T13:38:25.577561Z",
     "shell.execute_reply": "2023-01-15T13:38:25.576313Z"
    },
    "papermill": {
     "duration": 0.045064,
     "end_time": "2023-01-15T13:38:25.580378",
     "exception": false,
     "start_time": "2023-01-15T13:38:25.535314",
     "status": "completed"
    },
    "tags": []
   },
   "outputs": [
    {
     "name": "stderr",
     "output_type": "stream",
     "text": [
      "/opt/conda/lib/python3.7/site-packages/pandas/core/frame.py:5244: SettingWithCopyWarning: \n",
      "A value is trying to be set on a copy of a slice from a DataFrame\n",
      "\n",
      "See the caveats in the documentation: https://pandas.pydata.org/pandas-docs/stable/user_guide/indexing.html#returning-a-view-versus-a-copy\n",
      "  method=method,\n"
     ]
    }
   ],
   "source": [
    "df1.replace('No internet service', 'No', inplace=True)\n",
    "df1.replace('No phone service', 'No', inplace=True)"
   ]
  },
  {
   "cell_type": "code",
   "execution_count": 22,
   "id": "d90757c2",
   "metadata": {
    "execution": {
     "iopub.execute_input": "2023-01-15T13:38:25.614765Z",
     "iopub.status.busy": "2023-01-15T13:38:25.614061Z",
     "iopub.status.idle": "2023-01-15T13:38:25.633452Z",
     "shell.execute_reply": "2023-01-15T13:38:25.631641Z"
    },
    "papermill": {
     "duration": 0.039457,
     "end_time": "2023-01-15T13:38:25.636382",
     "exception": false,
     "start_time": "2023-01-15T13:38:25.596925",
     "status": "completed"
    },
    "tags": []
   },
   "outputs": [
    {
     "name": "stdout",
     "output_type": "stream",
     "text": [
      "gender:['Female' 'Male']\n",
      "Partner:['Yes' 'No']\n",
      "Dependents:['No' 'Yes']\n",
      "PhoneService:['No' 'Yes']\n",
      "MultipleLines:['No' 'Yes']\n",
      "InternetService:['DSL' 'Fiber optic' 'No']\n",
      "OnlineSecurity:['No' 'Yes']\n",
      "OnlineBackup:['Yes' 'No']\n",
      "DeviceProtection:['No' 'Yes']\n",
      "TechSupport:['No' 'Yes']\n",
      "StreamingTV:['No' 'Yes']\n",
      "StreamingMovies:['No' 'Yes']\n",
      "Contract:['Month-to-month' 'One year' 'Two year']\n",
      "PaperlessBilling:['Yes' 'No']\n",
      "PaymentMethod:['Electronic check' 'Mailed check' 'Bank transfer (automatic)'\n",
      " 'Credit card (automatic)']\n",
      "Churn:['No' 'Yes']\n"
     ]
    }
   ],
   "source": [
    "print_unique_col_values(df1)"
   ]
  },
  {
   "cell_type": "code",
   "execution_count": 23,
   "id": "f53bb386",
   "metadata": {
    "execution": {
     "iopub.execute_input": "2023-01-15T13:38:25.668764Z",
     "iopub.status.busy": "2023-01-15T13:38:25.668070Z",
     "iopub.status.idle": "2023-01-15T13:38:25.719131Z",
     "shell.execute_reply": "2023-01-15T13:38:25.717552Z"
    },
    "papermill": {
     "duration": 0.070441,
     "end_time": "2023-01-15T13:38:25.721947",
     "exception": false,
     "start_time": "2023-01-15T13:38:25.651506",
     "status": "completed"
    },
    "tags": []
   },
   "outputs": [
    {
     "name": "stderr",
     "output_type": "stream",
     "text": [
      "/opt/conda/lib/python3.7/site-packages/pandas/core/generic.py:6619: SettingWithCopyWarning: \n",
      "A value is trying to be set on a copy of a slice from a DataFrame\n",
      "\n",
      "See the caveats in the documentation: https://pandas.pydata.org/pandas-docs/stable/user_guide/indexing.html#returning-a-view-versus-a-copy\n",
      "  return self._update_inplace(result)\n"
     ]
    }
   ],
   "source": [
    "yes_no_columns = ['Partner','Dependents','PhoneService','MultipleLines','OnlineSecurity','OnlineBackup',\n",
    "                  'DeviceProtection','TechSupport','StreamingTV','StreamingMovies','PaperlessBilling','Churn']\n",
    "for col in yes_no_columns:\n",
    "    df1[col].replace({'Yes': 1,'No': 0},inplace=True)"
   ]
  },
  {
   "cell_type": "code",
   "execution_count": 24,
   "id": "081bfd3e",
   "metadata": {
    "execution": {
     "iopub.execute_input": "2023-01-15T13:38:25.756729Z",
     "iopub.status.busy": "2023-01-15T13:38:25.755225Z",
     "iopub.status.idle": "2023-01-15T13:38:25.772558Z",
     "shell.execute_reply": "2023-01-15T13:38:25.771174Z"
    },
    "papermill": {
     "duration": 0.037178,
     "end_time": "2023-01-15T13:38:25.775536",
     "exception": false,
     "start_time": "2023-01-15T13:38:25.738358",
     "status": "completed"
    },
    "tags": []
   },
   "outputs": [
    {
     "name": "stdout",
     "output_type": "stream",
     "text": [
      "gender: ['Female' 'Male']\n",
      "SeniorCitizen: [0 1]\n",
      "Partner: [1 0]\n",
      "Dependents: [0 1]\n",
      "tenure: [ 1 34  2 45  8 22 10 28 62 13 16 58 49 25 69 52 71 21 12 30 47 72 17 27\n",
      "  5 46 11 70 63 43 15 60 18 66  9  3 31 50 64 56  7 42 35 48 29 65 38 68\n",
      " 32 55 37 36 41  6  4 33 67 23 57 61 14 20 53 40 59 24 44 19 54 51 26 39]\n",
      "PhoneService: [0 1]\n",
      "MultipleLines: [0 1]\n",
      "InternetService: ['DSL' 'Fiber optic' 'No']\n",
      "OnlineSecurity: [0 1]\n",
      "OnlineBackup: [1 0]\n",
      "DeviceProtection: [0 1]\n",
      "TechSupport: [0 1]\n",
      "StreamingTV: [0 1]\n",
      "StreamingMovies: [0 1]\n",
      "Contract: ['Month-to-month' 'One year' 'Two year']\n",
      "PaperlessBilling: [1 0]\n",
      "PaymentMethod: ['Electronic check' 'Mailed check' 'Bank transfer (automatic)'\n",
      " 'Credit card (automatic)']\n",
      "MonthlyCharges: [29.85 56.95 53.85 ... 63.1  44.2  78.7 ]\n",
      "TotalCharges: [  29.85 1889.5   108.15 ...  346.45  306.6  6844.5 ]\n",
      "Churn: [0 1]\n"
     ]
    }
   ],
   "source": [
    "for col in df1:\n",
    "    print(f'{col}: {df1[col].unique()}') "
   ]
  },
  {
   "cell_type": "code",
   "execution_count": 25,
   "id": "ac22ad27",
   "metadata": {
    "execution": {
     "iopub.execute_input": "2023-01-15T13:38:25.812368Z",
     "iopub.status.busy": "2023-01-15T13:38:25.810881Z",
     "iopub.status.idle": "2023-01-15T13:38:25.824073Z",
     "shell.execute_reply": "2023-01-15T13:38:25.822535Z"
    },
    "papermill": {
     "duration": 0.03463,
     "end_time": "2023-01-15T13:38:25.827183",
     "exception": false,
     "start_time": "2023-01-15T13:38:25.792553",
     "status": "completed"
    },
    "tags": []
   },
   "outputs": [
    {
     "data": {
      "text/plain": [
       "array([1, 0])"
      ]
     },
     "execution_count": 25,
     "metadata": {},
     "output_type": "execute_result"
    }
   ],
   "source": [
    "df1['gender'].replace({'Female':1,'Male':0},inplace=True)\n",
    "df1.gender.unique()"
   ]
  },
  {
   "cell_type": "code",
   "execution_count": 26,
   "id": "bacf3000",
   "metadata": {
    "execution": {
     "iopub.execute_input": "2023-01-15T13:38:25.860535Z",
     "iopub.status.busy": "2023-01-15T13:38:25.860143Z",
     "iopub.status.idle": "2023-01-15T13:38:25.879365Z",
     "shell.execute_reply": "2023-01-15T13:38:25.878335Z"
    },
    "papermill": {
     "duration": 0.038634,
     "end_time": "2023-01-15T13:38:25.881760",
     "exception": false,
     "start_time": "2023-01-15T13:38:25.843126",
     "status": "completed"
    },
    "tags": []
   },
   "outputs": [
    {
     "data": {
      "text/plain": [
       "Index(['gender', 'SeniorCitizen', 'Partner', 'Dependents', 'tenure',\n",
       "       'PhoneService', 'MultipleLines', 'OnlineSecurity', 'OnlineBackup',\n",
       "       'DeviceProtection', 'TechSupport', 'StreamingTV', 'StreamingMovies',\n",
       "       'PaperlessBilling', 'MonthlyCharges', 'TotalCharges', 'Churn',\n",
       "       'InternetService_DSL', 'InternetService_Fiber optic',\n",
       "       'InternetService_No', 'Contract_Month-to-month', 'Contract_One year',\n",
       "       'Contract_Two year', 'PaymentMethod_Bank transfer (automatic)',\n",
       "       'PaymentMethod_Credit card (automatic)',\n",
       "       'PaymentMethod_Electronic check', 'PaymentMethod_Mailed check'],\n",
       "      dtype='object')"
      ]
     },
     "execution_count": 26,
     "metadata": {},
     "output_type": "execute_result"
    }
   ],
   "source": [
    "df2 = pd.get_dummies(data=df1, columns=['InternetService','Contract','PaymentMethod'])\n",
    "df2.columns"
   ]
  },
  {
   "cell_type": "code",
   "execution_count": 27,
   "id": "2491a9bc",
   "metadata": {
    "execution": {
     "iopub.execute_input": "2023-01-15T13:38:25.915075Z",
     "iopub.status.busy": "2023-01-15T13:38:25.913760Z",
     "iopub.status.idle": "2023-01-15T13:38:25.936842Z",
     "shell.execute_reply": "2023-01-15T13:38:25.935221Z"
    },
    "papermill": {
     "duration": 0.042914,
     "end_time": "2023-01-15T13:38:25.940020",
     "exception": false,
     "start_time": "2023-01-15T13:38:25.897106",
     "status": "completed"
    },
    "tags": []
   },
   "outputs": [
    {
     "data": {
      "text/html": [
       "<div>\n",
       "<style scoped>\n",
       "    .dataframe tbody tr th:only-of-type {\n",
       "        vertical-align: middle;\n",
       "    }\n",
       "\n",
       "    .dataframe tbody tr th {\n",
       "        vertical-align: top;\n",
       "    }\n",
       "\n",
       "    .dataframe thead th {\n",
       "        text-align: right;\n",
       "    }\n",
       "</style>\n",
       "<table border=\"1\" class=\"dataframe\">\n",
       "  <thead>\n",
       "    <tr style=\"text-align: right;\">\n",
       "      <th></th>\n",
       "      <th>gender</th>\n",
       "      <th>SeniorCitizen</th>\n",
       "      <th>Partner</th>\n",
       "      <th>Dependents</th>\n",
       "      <th>tenure</th>\n",
       "      <th>PhoneService</th>\n",
       "      <th>MultipleLines</th>\n",
       "      <th>OnlineSecurity</th>\n",
       "      <th>OnlineBackup</th>\n",
       "      <th>DeviceProtection</th>\n",
       "      <th>...</th>\n",
       "      <th>InternetService_DSL</th>\n",
       "      <th>InternetService_Fiber optic</th>\n",
       "      <th>InternetService_No</th>\n",
       "      <th>Contract_Month-to-month</th>\n",
       "      <th>Contract_One year</th>\n",
       "      <th>Contract_Two year</th>\n",
       "      <th>PaymentMethod_Bank transfer (automatic)</th>\n",
       "      <th>PaymentMethod_Credit card (automatic)</th>\n",
       "      <th>PaymentMethod_Electronic check</th>\n",
       "      <th>PaymentMethod_Mailed check</th>\n",
       "    </tr>\n",
       "  </thead>\n",
       "  <tbody>\n",
       "    <tr>\n",
       "      <th>6037</th>\n",
       "      <td>0</td>\n",
       "      <td>1</td>\n",
       "      <td>0</td>\n",
       "      <td>0</td>\n",
       "      <td>63</td>\n",
       "      <td>1</td>\n",
       "      <td>1</td>\n",
       "      <td>1</td>\n",
       "      <td>1</td>\n",
       "      <td>1</td>\n",
       "      <td>...</td>\n",
       "      <td>0</td>\n",
       "      <td>1</td>\n",
       "      <td>0</td>\n",
       "      <td>1</td>\n",
       "      <td>0</td>\n",
       "      <td>0</td>\n",
       "      <td>1</td>\n",
       "      <td>0</td>\n",
       "      <td>0</td>\n",
       "      <td>0</td>\n",
       "    </tr>\n",
       "    <tr>\n",
       "      <th>3541</th>\n",
       "      <td>1</td>\n",
       "      <td>0</td>\n",
       "      <td>1</td>\n",
       "      <td>0</td>\n",
       "      <td>49</td>\n",
       "      <td>0</td>\n",
       "      <td>0</td>\n",
       "      <td>1</td>\n",
       "      <td>0</td>\n",
       "      <td>0</td>\n",
       "      <td>...</td>\n",
       "      <td>1</td>\n",
       "      <td>0</td>\n",
       "      <td>0</td>\n",
       "      <td>1</td>\n",
       "      <td>0</td>\n",
       "      <td>0</td>\n",
       "      <td>1</td>\n",
       "      <td>0</td>\n",
       "      <td>0</td>\n",
       "      <td>0</td>\n",
       "    </tr>\n",
       "    <tr>\n",
       "      <th>2939</th>\n",
       "      <td>0</td>\n",
       "      <td>1</td>\n",
       "      <td>0</td>\n",
       "      <td>0</td>\n",
       "      <td>12</td>\n",
       "      <td>1</td>\n",
       "      <td>0</td>\n",
       "      <td>0</td>\n",
       "      <td>1</td>\n",
       "      <td>1</td>\n",
       "      <td>...</td>\n",
       "      <td>0</td>\n",
       "      <td>1</td>\n",
       "      <td>0</td>\n",
       "      <td>1</td>\n",
       "      <td>0</td>\n",
       "      <td>0</td>\n",
       "      <td>0</td>\n",
       "      <td>0</td>\n",
       "      <td>0</td>\n",
       "      <td>1</td>\n",
       "    </tr>\n",
       "    <tr>\n",
       "      <th>1790</th>\n",
       "      <td>1</td>\n",
       "      <td>0</td>\n",
       "      <td>0</td>\n",
       "      <td>0</td>\n",
       "      <td>12</td>\n",
       "      <td>1</td>\n",
       "      <td>0</td>\n",
       "      <td>0</td>\n",
       "      <td>0</td>\n",
       "      <td>0</td>\n",
       "      <td>...</td>\n",
       "      <td>0</td>\n",
       "      <td>1</td>\n",
       "      <td>0</td>\n",
       "      <td>1</td>\n",
       "      <td>0</td>\n",
       "      <td>0</td>\n",
       "      <td>1</td>\n",
       "      <td>0</td>\n",
       "      <td>0</td>\n",
       "      <td>0</td>\n",
       "    </tr>\n",
       "    <tr>\n",
       "      <th>4662</th>\n",
       "      <td>0</td>\n",
       "      <td>0</td>\n",
       "      <td>0</td>\n",
       "      <td>1</td>\n",
       "      <td>22</td>\n",
       "      <td>1</td>\n",
       "      <td>0</td>\n",
       "      <td>0</td>\n",
       "      <td>0</td>\n",
       "      <td>0</td>\n",
       "      <td>...</td>\n",
       "      <td>0</td>\n",
       "      <td>0</td>\n",
       "      <td>1</td>\n",
       "      <td>1</td>\n",
       "      <td>0</td>\n",
       "      <td>0</td>\n",
       "      <td>0</td>\n",
       "      <td>1</td>\n",
       "      <td>0</td>\n",
       "      <td>0</td>\n",
       "    </tr>\n",
       "  </tbody>\n",
       "</table>\n",
       "<p>5 rows × 27 columns</p>\n",
       "</div>"
      ],
      "text/plain": [
       "      gender  SeniorCitizen  Partner  Dependents  tenure  PhoneService  \\\n",
       "6037       0              1        0           0      63             1   \n",
       "3541       1              0        1           0      49             0   \n",
       "2939       0              1        0           0      12             1   \n",
       "1790       1              0        0           0      12             1   \n",
       "4662       0              0        0           1      22             1   \n",
       "\n",
       "      MultipleLines  OnlineSecurity  OnlineBackup  DeviceProtection  ...  \\\n",
       "6037              1               1             1                 1  ...   \n",
       "3541              0               1             0                 0  ...   \n",
       "2939              0               0             1                 1  ...   \n",
       "1790              0               0             0                 0  ...   \n",
       "4662              0               0             0                 0  ...   \n",
       "\n",
       "      InternetService_DSL  InternetService_Fiber optic  InternetService_No  \\\n",
       "6037                    0                            1                   0   \n",
       "3541                    1                            0                   0   \n",
       "2939                    0                            1                   0   \n",
       "1790                    0                            1                   0   \n",
       "4662                    0                            0                   1   \n",
       "\n",
       "      Contract_Month-to-month  Contract_One year  Contract_Two year  \\\n",
       "6037                        1                  0                  0   \n",
       "3541                        1                  0                  0   \n",
       "2939                        1                  0                  0   \n",
       "1790                        1                  0                  0   \n",
       "4662                        1                  0                  0   \n",
       "\n",
       "      PaymentMethod_Bank transfer (automatic)  \\\n",
       "6037                                        1   \n",
       "3541                                        1   \n",
       "2939                                        0   \n",
       "1790                                        1   \n",
       "4662                                        0   \n",
       "\n",
       "      PaymentMethod_Credit card (automatic)  PaymentMethod_Electronic check  \\\n",
       "6037                                      0                               0   \n",
       "3541                                      0                               0   \n",
       "2939                                      0                               0   \n",
       "1790                                      0                               0   \n",
       "4662                                      1                               0   \n",
       "\n",
       "      PaymentMethod_Mailed check  \n",
       "6037                           0  \n",
       "3541                           0  \n",
       "2939                           1  \n",
       "1790                           0  \n",
       "4662                           0  \n",
       "\n",
       "[5 rows x 27 columns]"
      ]
     },
     "execution_count": 27,
     "metadata": {},
     "output_type": "execute_result"
    }
   ],
   "source": [
    "df2.sample(5)"
   ]
  },
  {
   "cell_type": "code",
   "execution_count": 28,
   "id": "78c8f6f8",
   "metadata": {
    "execution": {
     "iopub.execute_input": "2023-01-15T13:38:25.973922Z",
     "iopub.status.busy": "2023-01-15T13:38:25.973452Z",
     "iopub.status.idle": "2023-01-15T13:38:25.983751Z",
     "shell.execute_reply": "2023-01-15T13:38:25.982433Z"
    },
    "papermill": {
     "duration": 0.030219,
     "end_time": "2023-01-15T13:38:25.986263",
     "exception": false,
     "start_time": "2023-01-15T13:38:25.956044",
     "status": "completed"
    },
    "tags": []
   },
   "outputs": [
    {
     "data": {
      "text/plain": [
       "gender                                       int64\n",
       "SeniorCitizen                                int64\n",
       "Partner                                      int64\n",
       "Dependents                                   int64\n",
       "tenure                                       int64\n",
       "PhoneService                                 int64\n",
       "MultipleLines                                int64\n",
       "OnlineSecurity                               int64\n",
       "OnlineBackup                                 int64\n",
       "DeviceProtection                             int64\n",
       "TechSupport                                  int64\n",
       "StreamingTV                                  int64\n",
       "StreamingMovies                              int64\n",
       "PaperlessBilling                             int64\n",
       "MonthlyCharges                             float64\n",
       "TotalCharges                               float64\n",
       "Churn                                        int64\n",
       "InternetService_DSL                          uint8\n",
       "InternetService_Fiber optic                  uint8\n",
       "InternetService_No                           uint8\n",
       "Contract_Month-to-month                      uint8\n",
       "Contract_One year                            uint8\n",
       "Contract_Two year                            uint8\n",
       "PaymentMethod_Bank transfer (automatic)      uint8\n",
       "PaymentMethod_Credit card (automatic)        uint8\n",
       "PaymentMethod_Electronic check               uint8\n",
       "PaymentMethod_Mailed check                   uint8\n",
       "dtype: object"
      ]
     },
     "execution_count": 28,
     "metadata": {},
     "output_type": "execute_result"
    }
   ],
   "source": [
    "df2.dtypes"
   ]
  },
  {
   "cell_type": "code",
   "execution_count": 29,
   "id": "d55d8002",
   "metadata": {
    "execution": {
     "iopub.execute_input": "2023-01-15T13:38:26.020511Z",
     "iopub.status.busy": "2023-01-15T13:38:26.020098Z",
     "iopub.status.idle": "2023-01-15T13:38:26.032196Z",
     "shell.execute_reply": "2023-01-15T13:38:26.031186Z"
    },
    "papermill": {
     "duration": 0.032531,
     "end_time": "2023-01-15T13:38:26.034789",
     "exception": false,
     "start_time": "2023-01-15T13:38:26.002258",
     "status": "completed"
    },
    "tags": []
   },
   "outputs": [],
   "source": [
    "cols_to_scale = ['tenure', 'MonthlyCharges', 'TotalCharges']\n",
    "\n",
    "from sklearn.preprocessing import MinMaxScaler\n",
    "scaler = MinMaxScaler()\n",
    "df2[cols_to_scale] = scaler.fit_transform(df2[cols_to_scale])"
   ]
  },
  {
   "cell_type": "code",
   "execution_count": 30,
   "id": "87d03fc0",
   "metadata": {
    "execution": {
     "iopub.execute_input": "2023-01-15T13:38:26.069758Z",
     "iopub.status.busy": "2023-01-15T13:38:26.068556Z",
     "iopub.status.idle": "2023-01-15T13:38:26.087325Z",
     "shell.execute_reply": "2023-01-15T13:38:26.085706Z"
    },
    "papermill": {
     "duration": 0.039729,
     "end_time": "2023-01-15T13:38:26.090394",
     "exception": false,
     "start_time": "2023-01-15T13:38:26.050665",
     "status": "completed"
    },
    "tags": []
   },
   "outputs": [
    {
     "name": "stdout",
     "output_type": "stream",
     "text": [
      "gender: [1 0]\n",
      "SeniorCitizen: [0 1]\n",
      "Partner: [1 0]\n",
      "Dependents: [0 1]\n",
      "tenure: [0.         0.46478873 0.01408451 0.61971831 0.09859155 0.29577465\n",
      " 0.12676056 0.38028169 0.85915493 0.16901408 0.21126761 0.8028169\n",
      " 0.67605634 0.33802817 0.95774648 0.71830986 0.98591549 0.28169014\n",
      " 0.15492958 0.4084507  0.64788732 1.         0.22535211 0.36619718\n",
      " 0.05633803 0.63380282 0.14084507 0.97183099 0.87323944 0.5915493\n",
      " 0.1971831  0.83098592 0.23943662 0.91549296 0.11267606 0.02816901\n",
      " 0.42253521 0.69014085 0.88732394 0.77464789 0.08450704 0.57746479\n",
      " 0.47887324 0.66197183 0.3943662  0.90140845 0.52112676 0.94366197\n",
      " 0.43661972 0.76056338 0.50704225 0.49295775 0.56338028 0.07042254\n",
      " 0.04225352 0.45070423 0.92957746 0.30985915 0.78873239 0.84507042\n",
      " 0.18309859 0.26760563 0.73239437 0.54929577 0.81690141 0.32394366\n",
      " 0.6056338  0.25352113 0.74647887 0.70422535 0.35211268 0.53521127]\n",
      "PhoneService: [0 1]\n",
      "MultipleLines: [0 1]\n",
      "OnlineSecurity: [0 1]\n",
      "OnlineBackup: [1 0]\n",
      "DeviceProtection: [0 1]\n",
      "TechSupport: [0 1]\n",
      "StreamingTV: [0 1]\n",
      "StreamingMovies: [0 1]\n",
      "PaperlessBilling: [1 0]\n",
      "MonthlyCharges: [0.11542289 0.38507463 0.35422886 ... 0.44626866 0.25820896 0.60149254]\n",
      "TotalCharges: [0.0012751  0.21586661 0.01031041 ... 0.03780868 0.03321025 0.78764136]\n",
      "Churn: [0 1]\n",
      "InternetService_DSL: [1 0]\n",
      "InternetService_Fiber optic: [0 1]\n",
      "InternetService_No: [0 1]\n",
      "Contract_Month-to-month: [1 0]\n",
      "Contract_One year: [0 1]\n",
      "Contract_Two year: [0 1]\n",
      "PaymentMethod_Bank transfer (automatic): [0 1]\n",
      "PaymentMethod_Credit card (automatic): [0 1]\n",
      "PaymentMethod_Electronic check: [1 0]\n",
      "PaymentMethod_Mailed check: [0 1]\n"
     ]
    }
   ],
   "source": [
    "for col in df2:\n",
    "    print(f'{col}: {df2[col].unique()}')"
   ]
  },
  {
   "cell_type": "code",
   "execution_count": 31,
   "id": "a7a63f55",
   "metadata": {
    "execution": {
     "iopub.execute_input": "2023-01-15T13:38:26.126290Z",
     "iopub.status.busy": "2023-01-15T13:38:26.125832Z",
     "iopub.status.idle": "2023-01-15T13:38:26.155191Z",
     "shell.execute_reply": "2023-01-15T13:38:26.153767Z"
    },
    "papermill": {
     "duration": 0.051774,
     "end_time": "2023-01-15T13:38:26.159906",
     "exception": false,
     "start_time": "2023-01-15T13:38:26.108132",
     "status": "completed"
    },
    "tags": []
   },
   "outputs": [],
   "source": [
    "X = df2.drop('Churn', axis='columns')\n",
    "y=df2['Churn']\n",
    "\n",
    "from sklearn.model_selection import train_test_split\n",
    "X_train, X_test, y_train, y_test = train_test_split(X,y,test_size=0.2,random_state=5)"
   ]
  },
  {
   "cell_type": "code",
   "execution_count": 32,
   "id": "e4f83261",
   "metadata": {
    "execution": {
     "iopub.execute_input": "2023-01-15T13:38:26.194167Z",
     "iopub.status.busy": "2023-01-15T13:38:26.193719Z",
     "iopub.status.idle": "2023-01-15T13:38:26.200944Z",
     "shell.execute_reply": "2023-01-15T13:38:26.199759Z"
    },
    "papermill": {
     "duration": 0.027305,
     "end_time": "2023-01-15T13:38:26.203691",
     "exception": false,
     "start_time": "2023-01-15T13:38:26.176386",
     "status": "completed"
    },
    "tags": []
   },
   "outputs": [
    {
     "data": {
      "text/plain": [
       "(5625, 26)"
      ]
     },
     "execution_count": 32,
     "metadata": {},
     "output_type": "execute_result"
    }
   ],
   "source": [
    "X_train.shape"
   ]
  },
  {
   "cell_type": "code",
   "execution_count": 33,
   "id": "64e1a34f",
   "metadata": {
    "execution": {
     "iopub.execute_input": "2023-01-15T13:38:26.238245Z",
     "iopub.status.busy": "2023-01-15T13:38:26.237355Z",
     "iopub.status.idle": "2023-01-15T13:38:26.244679Z",
     "shell.execute_reply": "2023-01-15T13:38:26.243557Z"
    },
    "papermill": {
     "duration": 0.027417,
     "end_time": "2023-01-15T13:38:26.247100",
     "exception": false,
     "start_time": "2023-01-15T13:38:26.219683",
     "status": "completed"
    },
    "tags": []
   },
   "outputs": [
    {
     "data": {
      "text/plain": [
       "(1407, 26)"
      ]
     },
     "execution_count": 33,
     "metadata": {},
     "output_type": "execute_result"
    }
   ],
   "source": [
    "X_test.shape"
   ]
  },
  {
   "cell_type": "code",
   "execution_count": 34,
   "id": "911bc86c",
   "metadata": {
    "execution": {
     "iopub.execute_input": "2023-01-15T13:38:26.283020Z",
     "iopub.status.busy": "2023-01-15T13:38:26.281762Z",
     "iopub.status.idle": "2023-01-15T13:38:26.306396Z",
     "shell.execute_reply": "2023-01-15T13:38:26.305075Z"
    },
    "papermill": {
     "duration": 0.045042,
     "end_time": "2023-01-15T13:38:26.308966",
     "exception": false,
     "start_time": "2023-01-15T13:38:26.263924",
     "status": "completed"
    },
    "tags": []
   },
   "outputs": [
    {
     "data": {
      "text/html": [
       "<div>\n",
       "<style scoped>\n",
       "    .dataframe tbody tr th:only-of-type {\n",
       "        vertical-align: middle;\n",
       "    }\n",
       "\n",
       "    .dataframe tbody tr th {\n",
       "        vertical-align: top;\n",
       "    }\n",
       "\n",
       "    .dataframe thead th {\n",
       "        text-align: right;\n",
       "    }\n",
       "</style>\n",
       "<table border=\"1\" class=\"dataframe\">\n",
       "  <thead>\n",
       "    <tr style=\"text-align: right;\">\n",
       "      <th></th>\n",
       "      <th>gender</th>\n",
       "      <th>SeniorCitizen</th>\n",
       "      <th>Partner</th>\n",
       "      <th>Dependents</th>\n",
       "      <th>tenure</th>\n",
       "      <th>PhoneService</th>\n",
       "      <th>MultipleLines</th>\n",
       "      <th>OnlineSecurity</th>\n",
       "      <th>OnlineBackup</th>\n",
       "      <th>DeviceProtection</th>\n",
       "      <th>...</th>\n",
       "      <th>InternetService_DSL</th>\n",
       "      <th>InternetService_Fiber optic</th>\n",
       "      <th>InternetService_No</th>\n",
       "      <th>Contract_Month-to-month</th>\n",
       "      <th>Contract_One year</th>\n",
       "      <th>Contract_Two year</th>\n",
       "      <th>PaymentMethod_Bank transfer (automatic)</th>\n",
       "      <th>PaymentMethod_Credit card (automatic)</th>\n",
       "      <th>PaymentMethod_Electronic check</th>\n",
       "      <th>PaymentMethod_Mailed check</th>\n",
       "    </tr>\n",
       "  </thead>\n",
       "  <tbody>\n",
       "    <tr>\n",
       "      <th>5664</th>\n",
       "      <td>1</td>\n",
       "      <td>1</td>\n",
       "      <td>0</td>\n",
       "      <td>0</td>\n",
       "      <td>0.126761</td>\n",
       "      <td>1</td>\n",
       "      <td>0</td>\n",
       "      <td>0</td>\n",
       "      <td>0</td>\n",
       "      <td>1</td>\n",
       "      <td>...</td>\n",
       "      <td>0</td>\n",
       "      <td>1</td>\n",
       "      <td>0</td>\n",
       "      <td>1</td>\n",
       "      <td>0</td>\n",
       "      <td>0</td>\n",
       "      <td>0</td>\n",
       "      <td>1</td>\n",
       "      <td>0</td>\n",
       "      <td>0</td>\n",
       "    </tr>\n",
       "    <tr>\n",
       "      <th>101</th>\n",
       "      <td>1</td>\n",
       "      <td>0</td>\n",
       "      <td>1</td>\n",
       "      <td>1</td>\n",
       "      <td>0.000000</td>\n",
       "      <td>1</td>\n",
       "      <td>0</td>\n",
       "      <td>0</td>\n",
       "      <td>0</td>\n",
       "      <td>0</td>\n",
       "      <td>...</td>\n",
       "      <td>0</td>\n",
       "      <td>0</td>\n",
       "      <td>1</td>\n",
       "      <td>1</td>\n",
       "      <td>0</td>\n",
       "      <td>0</td>\n",
       "      <td>0</td>\n",
       "      <td>0</td>\n",
       "      <td>1</td>\n",
       "      <td>0</td>\n",
       "    </tr>\n",
       "    <tr>\n",
       "      <th>2621</th>\n",
       "      <td>0</td>\n",
       "      <td>0</td>\n",
       "      <td>1</td>\n",
       "      <td>0</td>\n",
       "      <td>0.985915</td>\n",
       "      <td>1</td>\n",
       "      <td>0</td>\n",
       "      <td>0</td>\n",
       "      <td>1</td>\n",
       "      <td>1</td>\n",
       "      <td>...</td>\n",
       "      <td>1</td>\n",
       "      <td>0</td>\n",
       "      <td>0</td>\n",
       "      <td>0</td>\n",
       "      <td>0</td>\n",
       "      <td>1</td>\n",
       "      <td>0</td>\n",
       "      <td>1</td>\n",
       "      <td>0</td>\n",
       "      <td>0</td>\n",
       "    </tr>\n",
       "    <tr>\n",
       "      <th>392</th>\n",
       "      <td>1</td>\n",
       "      <td>1</td>\n",
       "      <td>0</td>\n",
       "      <td>0</td>\n",
       "      <td>0.014085</td>\n",
       "      <td>1</td>\n",
       "      <td>0</td>\n",
       "      <td>0</td>\n",
       "      <td>0</td>\n",
       "      <td>0</td>\n",
       "      <td>...</td>\n",
       "      <td>1</td>\n",
       "      <td>0</td>\n",
       "      <td>0</td>\n",
       "      <td>1</td>\n",
       "      <td>0</td>\n",
       "      <td>0</td>\n",
       "      <td>0</td>\n",
       "      <td>0</td>\n",
       "      <td>1</td>\n",
       "      <td>0</td>\n",
       "    </tr>\n",
       "    <tr>\n",
       "      <th>1327</th>\n",
       "      <td>0</td>\n",
       "      <td>0</td>\n",
       "      <td>1</td>\n",
       "      <td>0</td>\n",
       "      <td>0.816901</td>\n",
       "      <td>1</td>\n",
       "      <td>1</td>\n",
       "      <td>0</td>\n",
       "      <td>0</td>\n",
       "      <td>1</td>\n",
       "      <td>...</td>\n",
       "      <td>0</td>\n",
       "      <td>1</td>\n",
       "      <td>0</td>\n",
       "      <td>0</td>\n",
       "      <td>1</td>\n",
       "      <td>0</td>\n",
       "      <td>1</td>\n",
       "      <td>0</td>\n",
       "      <td>0</td>\n",
       "      <td>0</td>\n",
       "    </tr>\n",
       "    <tr>\n",
       "      <th>3607</th>\n",
       "      <td>1</td>\n",
       "      <td>0</td>\n",
       "      <td>0</td>\n",
       "      <td>0</td>\n",
       "      <td>0.169014</td>\n",
       "      <td>1</td>\n",
       "      <td>0</td>\n",
       "      <td>1</td>\n",
       "      <td>0</td>\n",
       "      <td>0</td>\n",
       "      <td>...</td>\n",
       "      <td>1</td>\n",
       "      <td>0</td>\n",
       "      <td>0</td>\n",
       "      <td>0</td>\n",
       "      <td>1</td>\n",
       "      <td>0</td>\n",
       "      <td>0</td>\n",
       "      <td>0</td>\n",
       "      <td>0</td>\n",
       "      <td>1</td>\n",
       "    </tr>\n",
       "    <tr>\n",
       "      <th>2773</th>\n",
       "      <td>0</td>\n",
       "      <td>0</td>\n",
       "      <td>1</td>\n",
       "      <td>0</td>\n",
       "      <td>0.323944</td>\n",
       "      <td>0</td>\n",
       "      <td>0</td>\n",
       "      <td>0</td>\n",
       "      <td>0</td>\n",
       "      <td>1</td>\n",
       "      <td>...</td>\n",
       "      <td>1</td>\n",
       "      <td>0</td>\n",
       "      <td>0</td>\n",
       "      <td>1</td>\n",
       "      <td>0</td>\n",
       "      <td>0</td>\n",
       "      <td>0</td>\n",
       "      <td>0</td>\n",
       "      <td>1</td>\n",
       "      <td>0</td>\n",
       "    </tr>\n",
       "    <tr>\n",
       "      <th>1936</th>\n",
       "      <td>1</td>\n",
       "      <td>0</td>\n",
       "      <td>1</td>\n",
       "      <td>0</td>\n",
       "      <td>0.704225</td>\n",
       "      <td>1</td>\n",
       "      <td>0</td>\n",
       "      <td>1</td>\n",
       "      <td>1</td>\n",
       "      <td>0</td>\n",
       "      <td>...</td>\n",
       "      <td>1</td>\n",
       "      <td>0</td>\n",
       "      <td>0</td>\n",
       "      <td>0</td>\n",
       "      <td>1</td>\n",
       "      <td>0</td>\n",
       "      <td>1</td>\n",
       "      <td>0</td>\n",
       "      <td>0</td>\n",
       "      <td>0</td>\n",
       "    </tr>\n",
       "    <tr>\n",
       "      <th>5387</th>\n",
       "      <td>0</td>\n",
       "      <td>0</td>\n",
       "      <td>0</td>\n",
       "      <td>0</td>\n",
       "      <td>0.042254</td>\n",
       "      <td>0</td>\n",
       "      <td>0</td>\n",
       "      <td>0</td>\n",
       "      <td>0</td>\n",
       "      <td>0</td>\n",
       "      <td>...</td>\n",
       "      <td>1</td>\n",
       "      <td>0</td>\n",
       "      <td>0</td>\n",
       "      <td>1</td>\n",
       "      <td>0</td>\n",
       "      <td>0</td>\n",
       "      <td>0</td>\n",
       "      <td>0</td>\n",
       "      <td>1</td>\n",
       "      <td>0</td>\n",
       "    </tr>\n",
       "    <tr>\n",
       "      <th>4331</th>\n",
       "      <td>0</td>\n",
       "      <td>0</td>\n",
       "      <td>0</td>\n",
       "      <td>0</td>\n",
       "      <td>0.985915</td>\n",
       "      <td>1</td>\n",
       "      <td>1</td>\n",
       "      <td>0</td>\n",
       "      <td>0</td>\n",
       "      <td>0</td>\n",
       "      <td>...</td>\n",
       "      <td>0</td>\n",
       "      <td>0</td>\n",
       "      <td>1</td>\n",
       "      <td>0</td>\n",
       "      <td>0</td>\n",
       "      <td>1</td>\n",
       "      <td>1</td>\n",
       "      <td>0</td>\n",
       "      <td>0</td>\n",
       "      <td>0</td>\n",
       "    </tr>\n",
       "  </tbody>\n",
       "</table>\n",
       "<p>10 rows × 26 columns</p>\n",
       "</div>"
      ],
      "text/plain": [
       "      gender  SeniorCitizen  Partner  Dependents    tenure  PhoneService  \\\n",
       "5664       1              1        0           0  0.126761             1   \n",
       "101        1              0        1           1  0.000000             1   \n",
       "2621       0              0        1           0  0.985915             1   \n",
       "392        1              1        0           0  0.014085             1   \n",
       "1327       0              0        1           0  0.816901             1   \n",
       "3607       1              0        0           0  0.169014             1   \n",
       "2773       0              0        1           0  0.323944             0   \n",
       "1936       1              0        1           0  0.704225             1   \n",
       "5387       0              0        0           0  0.042254             0   \n",
       "4331       0              0        0           0  0.985915             1   \n",
       "\n",
       "      MultipleLines  OnlineSecurity  OnlineBackup  DeviceProtection  ...  \\\n",
       "5664              0               0             0                 1  ...   \n",
       "101               0               0             0                 0  ...   \n",
       "2621              0               0             1                 1  ...   \n",
       "392               0               0             0                 0  ...   \n",
       "1327              1               0             0                 1  ...   \n",
       "3607              0               1             0                 0  ...   \n",
       "2773              0               0             0                 1  ...   \n",
       "1936              0               1             1                 0  ...   \n",
       "5387              0               0             0                 0  ...   \n",
       "4331              1               0             0                 0  ...   \n",
       "\n",
       "      InternetService_DSL  InternetService_Fiber optic  InternetService_No  \\\n",
       "5664                    0                            1                   0   \n",
       "101                     0                            0                   1   \n",
       "2621                    1                            0                   0   \n",
       "392                     1                            0                   0   \n",
       "1327                    0                            1                   0   \n",
       "3607                    1                            0                   0   \n",
       "2773                    1                            0                   0   \n",
       "1936                    1                            0                   0   \n",
       "5387                    1                            0                   0   \n",
       "4331                    0                            0                   1   \n",
       "\n",
       "      Contract_Month-to-month  Contract_One year  Contract_Two year  \\\n",
       "5664                        1                  0                  0   \n",
       "101                         1                  0                  0   \n",
       "2621                        0                  0                  1   \n",
       "392                         1                  0                  0   \n",
       "1327                        0                  1                  0   \n",
       "3607                        0                  1                  0   \n",
       "2773                        1                  0                  0   \n",
       "1936                        0                  1                  0   \n",
       "5387                        1                  0                  0   \n",
       "4331                        0                  0                  1   \n",
       "\n",
       "      PaymentMethod_Bank transfer (automatic)  \\\n",
       "5664                                        0   \n",
       "101                                         0   \n",
       "2621                                        0   \n",
       "392                                         0   \n",
       "1327                                        1   \n",
       "3607                                        0   \n",
       "2773                                        0   \n",
       "1936                                        1   \n",
       "5387                                        0   \n",
       "4331                                        1   \n",
       "\n",
       "      PaymentMethod_Credit card (automatic)  PaymentMethod_Electronic check  \\\n",
       "5664                                      1                               0   \n",
       "101                                       0                               1   \n",
       "2621                                      1                               0   \n",
       "392                                       0                               1   \n",
       "1327                                      0                               0   \n",
       "3607                                      0                               0   \n",
       "2773                                      0                               1   \n",
       "1936                                      0                               0   \n",
       "5387                                      0                               1   \n",
       "4331                                      0                               0   \n",
       "\n",
       "      PaymentMethod_Mailed check  \n",
       "5664                           0  \n",
       "101                            0  \n",
       "2621                           0  \n",
       "392                            0  \n",
       "1327                           0  \n",
       "3607                           1  \n",
       "2773                           0  \n",
       "1936                           0  \n",
       "5387                           0  \n",
       "4331                           0  \n",
       "\n",
       "[10 rows x 26 columns]"
      ]
     },
     "execution_count": 34,
     "metadata": {},
     "output_type": "execute_result"
    }
   ],
   "source": [
    "X_train[:10]"
   ]
  },
  {
   "cell_type": "code",
   "execution_count": 35,
   "id": "1a861070",
   "metadata": {
    "execution": {
     "iopub.execute_input": "2023-01-15T13:38:26.345368Z",
     "iopub.status.busy": "2023-01-15T13:38:26.344137Z",
     "iopub.status.idle": "2023-01-15T13:38:26.352044Z",
     "shell.execute_reply": "2023-01-15T13:38:26.351011Z"
    },
    "papermill": {
     "duration": 0.028625,
     "end_time": "2023-01-15T13:38:26.354645",
     "exception": false,
     "start_time": "2023-01-15T13:38:26.326020",
     "status": "completed"
    },
    "tags": []
   },
   "outputs": [
    {
     "data": {
      "text/plain": [
       "26"
      ]
     },
     "execution_count": 35,
     "metadata": {},
     "output_type": "execute_result"
    }
   ],
   "source": [
    "len(X_train.columns)"
   ]
  },
  {
   "cell_type": "code",
   "execution_count": 36,
   "id": "af3486b9",
   "metadata": {
    "execution": {
     "iopub.execute_input": "2023-01-15T13:38:26.390121Z",
     "iopub.status.busy": "2023-01-15T13:38:26.389730Z",
     "iopub.status.idle": "2023-01-15T13:39:05.917060Z",
     "shell.execute_reply": "2023-01-15T13:39:05.915525Z"
    },
    "papermill": {
     "duration": 39.547946,
     "end_time": "2023-01-15T13:39:05.919596",
     "exception": false,
     "start_time": "2023-01-15T13:38:26.371650",
     "status": "completed"
    },
    "tags": []
   },
   "outputs": [
    {
     "name": "stderr",
     "output_type": "stream",
     "text": [
      "2023-01-15 13:38:27.593985: I tensorflow/core/common_runtime/process_util.cc:146] Creating new thread pool with default inter op setting: 2. Tune using inter_op_parallelism_threads for best performance.\n",
      "2023-01-15 13:38:27.785672: I tensorflow/compiler/mlir/mlir_graph_optimization_pass.cc:185] None of the MLIR Optimization Passes are enabled (registered 2)\n"
     ]
    },
    {
     "name": "stdout",
     "output_type": "stream",
     "text": [
      "Epoch 1/100\n",
      "176/176 [==============================] - 1s 2ms/step - loss: 0.6391 - accuracy: 0.6507\n",
      "Epoch 2/100\n",
      "176/176 [==============================] - 0s 2ms/step - loss: 0.4412 - accuracy: 0.7884\n",
      "Epoch 3/100\n",
      "176/176 [==============================] - 0s 2ms/step - loss: 0.4233 - accuracy: 0.7968\n",
      "Epoch 4/100\n",
      "176/176 [==============================] - 1s 3ms/step - loss: 0.4184 - accuracy: 0.8002\n",
      "Epoch 5/100\n",
      "176/176 [==============================] - 0s 2ms/step - loss: 0.4143 - accuracy: 0.8039\n",
      "Epoch 6/100\n",
      "176/176 [==============================] - 0s 3ms/step - loss: 0.4117 - accuracy: 0.8066\n",
      "Epoch 7/100\n",
      "176/176 [==============================] - 0s 2ms/step - loss: 0.4112 - accuracy: 0.8066\n",
      "Epoch 8/100\n",
      "176/176 [==============================] - 0s 2ms/step - loss: 0.4099 - accuracy: 0.8069\n",
      "Epoch 9/100\n",
      "176/176 [==============================] - 0s 2ms/step - loss: 0.4085 - accuracy: 0.8091\n",
      "Epoch 10/100\n",
      "176/176 [==============================] - 0s 2ms/step - loss: 0.4068 - accuracy: 0.8089\n",
      "Epoch 11/100\n",
      "176/176 [==============================] - 0s 2ms/step - loss: 0.4056 - accuracy: 0.8103\n",
      "Epoch 12/100\n",
      "176/176 [==============================] - 0s 3ms/step - loss: 0.4055 - accuracy: 0.8107\n",
      "Epoch 13/100\n",
      "176/176 [==============================] - 0s 2ms/step - loss: 0.4031 - accuracy: 0.8121\n",
      "Epoch 14/100\n",
      "176/176 [==============================] - 0s 2ms/step - loss: 0.4027 - accuracy: 0.8146\n",
      "Epoch 15/100\n",
      "176/176 [==============================] - 0s 2ms/step - loss: 0.4014 - accuracy: 0.8156\n",
      "Epoch 16/100\n",
      "176/176 [==============================] - 0s 2ms/step - loss: 0.4015 - accuracy: 0.8117\n",
      "Epoch 17/100\n",
      "176/176 [==============================] - 0s 2ms/step - loss: 0.4004 - accuracy: 0.8133\n",
      "Epoch 18/100\n",
      "176/176 [==============================] - 0s 2ms/step - loss: 0.3991 - accuracy: 0.8123\n",
      "Epoch 19/100\n",
      "176/176 [==============================] - 0s 2ms/step - loss: 0.3986 - accuracy: 0.8156\n",
      "Epoch 20/100\n",
      "176/176 [==============================] - 0s 2ms/step - loss: 0.3981 - accuracy: 0.8148\n",
      "Epoch 21/100\n",
      "176/176 [==============================] - 0s 2ms/step - loss: 0.3977 - accuracy: 0.8139\n",
      "Epoch 22/100\n",
      "176/176 [==============================] - 0s 2ms/step - loss: 0.3962 - accuracy: 0.8132\n",
      "Epoch 23/100\n",
      "176/176 [==============================] - 0s 2ms/step - loss: 0.3953 - accuracy: 0.8180\n",
      "Epoch 24/100\n",
      "176/176 [==============================] - 0s 2ms/step - loss: 0.3949 - accuracy: 0.8165\n",
      "Epoch 25/100\n",
      "176/176 [==============================] - 0s 2ms/step - loss: 0.3947 - accuracy: 0.8174\n",
      "Epoch 26/100\n",
      "176/176 [==============================] - 0s 2ms/step - loss: 0.3931 - accuracy: 0.8199\n",
      "Epoch 27/100\n",
      "176/176 [==============================] - 0s 2ms/step - loss: 0.3931 - accuracy: 0.8187\n",
      "Epoch 28/100\n",
      "176/176 [==============================] - 0s 2ms/step - loss: 0.3918 - accuracy: 0.8172\n",
      "Epoch 29/100\n",
      "176/176 [==============================] - 0s 2ms/step - loss: 0.3916 - accuracy: 0.8197\n",
      "Epoch 30/100\n",
      "176/176 [==============================] - 0s 2ms/step - loss: 0.3922 - accuracy: 0.8188\n",
      "Epoch 31/100\n",
      "176/176 [==============================] - 0s 2ms/step - loss: 0.3898 - accuracy: 0.8192\n",
      "Epoch 32/100\n",
      "176/176 [==============================] - 0s 2ms/step - loss: 0.3898 - accuracy: 0.8212\n",
      "Epoch 33/100\n",
      "176/176 [==============================] - 0s 2ms/step - loss: 0.3890 - accuracy: 0.8229\n",
      "Epoch 34/100\n",
      "176/176 [==============================] - 0s 2ms/step - loss: 0.3883 - accuracy: 0.8219\n",
      "Epoch 35/100\n",
      "176/176 [==============================] - 0s 2ms/step - loss: 0.3880 - accuracy: 0.8194\n",
      "Epoch 36/100\n",
      "176/176 [==============================] - 0s 2ms/step - loss: 0.3865 - accuracy: 0.8185\n",
      "Epoch 37/100\n",
      "176/176 [==============================] - 0s 2ms/step - loss: 0.3864 - accuracy: 0.8217\n",
      "Epoch 38/100\n",
      "176/176 [==============================] - 0s 2ms/step - loss: 0.3858 - accuracy: 0.8233\n",
      "Epoch 39/100\n",
      "176/176 [==============================] - 0s 2ms/step - loss: 0.3850 - accuracy: 0.8215\n",
      "Epoch 40/100\n",
      "176/176 [==============================] - 0s 2ms/step - loss: 0.3843 - accuracy: 0.8229\n",
      "Epoch 41/100\n",
      "176/176 [==============================] - 0s 2ms/step - loss: 0.3834 - accuracy: 0.8233\n",
      "Epoch 42/100\n",
      "176/176 [==============================] - 0s 2ms/step - loss: 0.3836 - accuracy: 0.8228\n",
      "Epoch 43/100\n",
      "176/176 [==============================] - 0s 2ms/step - loss: 0.3836 - accuracy: 0.8217\n",
      "Epoch 44/100\n",
      "176/176 [==============================] - 0s 2ms/step - loss: 0.3844 - accuracy: 0.8231\n",
      "Epoch 45/100\n",
      "176/176 [==============================] - 0s 2ms/step - loss: 0.3821 - accuracy: 0.8258\n",
      "Epoch 46/100\n",
      "176/176 [==============================] - 0s 2ms/step - loss: 0.3817 - accuracy: 0.8224\n",
      "Epoch 47/100\n",
      "176/176 [==============================] - 0s 2ms/step - loss: 0.3817 - accuracy: 0.8229\n",
      "Epoch 48/100\n",
      "176/176 [==============================] - 0s 2ms/step - loss: 0.3811 - accuracy: 0.8215\n",
      "Epoch 49/100\n",
      "176/176 [==============================] - 0s 2ms/step - loss: 0.3802 - accuracy: 0.8210\n",
      "Epoch 50/100\n",
      "176/176 [==============================] - 0s 2ms/step - loss: 0.3792 - accuracy: 0.8224\n",
      "Epoch 51/100\n",
      "176/176 [==============================] - 0s 2ms/step - loss: 0.3800 - accuracy: 0.8244\n",
      "Epoch 52/100\n",
      "176/176 [==============================] - 0s 2ms/step - loss: 0.3793 - accuracy: 0.8238\n",
      "Epoch 53/100\n",
      "176/176 [==============================] - 0s 2ms/step - loss: 0.3783 - accuracy: 0.8276\n",
      "Epoch 54/100\n",
      "176/176 [==============================] - 0s 2ms/step - loss: 0.3770 - accuracy: 0.8268\n",
      "Epoch 55/100\n",
      "176/176 [==============================] - 0s 2ms/step - loss: 0.3788 - accuracy: 0.8240\n",
      "Epoch 56/100\n",
      "176/176 [==============================] - 0s 2ms/step - loss: 0.3756 - accuracy: 0.8242\n",
      "Epoch 57/100\n",
      "176/176 [==============================] - 0s 2ms/step - loss: 0.3763 - accuracy: 0.8265\n",
      "Epoch 58/100\n",
      "176/176 [==============================] - 0s 2ms/step - loss: 0.3766 - accuracy: 0.8244\n",
      "Epoch 59/100\n",
      "176/176 [==============================] - 0s 2ms/step - loss: 0.3751 - accuracy: 0.8267\n",
      "Epoch 60/100\n",
      "176/176 [==============================] - 0s 2ms/step - loss: 0.3757 - accuracy: 0.8272\n",
      "Epoch 61/100\n",
      "176/176 [==============================] - 0s 2ms/step - loss: 0.3744 - accuracy: 0.8283\n",
      "Epoch 62/100\n",
      "176/176 [==============================] - 0s 2ms/step - loss: 0.3742 - accuracy: 0.8277\n",
      "Epoch 63/100\n",
      "176/176 [==============================] - 0s 2ms/step - loss: 0.3738 - accuracy: 0.8276\n",
      "Epoch 64/100\n",
      "176/176 [==============================] - 0s 2ms/step - loss: 0.3735 - accuracy: 0.8263\n",
      "Epoch 65/100\n",
      "176/176 [==============================] - 0s 2ms/step - loss: 0.3733 - accuracy: 0.8281\n",
      "Epoch 66/100\n",
      "176/176 [==============================] - 0s 2ms/step - loss: 0.3733 - accuracy: 0.8281\n",
      "Epoch 67/100\n",
      "176/176 [==============================] - 0s 2ms/step - loss: 0.3714 - accuracy: 0.8283\n",
      "Epoch 68/100\n",
      "176/176 [==============================] - 0s 2ms/step - loss: 0.3723 - accuracy: 0.8245\n",
      "Epoch 69/100\n",
      "176/176 [==============================] - 0s 2ms/step - loss: 0.3720 - accuracy: 0.8293\n",
      "Epoch 70/100\n",
      "176/176 [==============================] - 0s 2ms/step - loss: 0.3714 - accuracy: 0.8290\n",
      "Epoch 71/100\n",
      "176/176 [==============================] - 0s 2ms/step - loss: 0.3713 - accuracy: 0.8263\n",
      "Epoch 72/100\n",
      "176/176 [==============================] - 0s 2ms/step - loss: 0.3700 - accuracy: 0.8274\n",
      "Epoch 73/100\n",
      "176/176 [==============================] - 0s 2ms/step - loss: 0.3707 - accuracy: 0.8293\n",
      "Epoch 74/100\n",
      "176/176 [==============================] - 0s 2ms/step - loss: 0.3696 - accuracy: 0.8288\n",
      "Epoch 75/100\n",
      "176/176 [==============================] - 0s 2ms/step - loss: 0.3698 - accuracy: 0.8295\n",
      "Epoch 76/100\n",
      "176/176 [==============================] - 0s 2ms/step - loss: 0.3689 - accuracy: 0.8286\n",
      "Epoch 77/100\n",
      "176/176 [==============================] - 0s 2ms/step - loss: 0.3681 - accuracy: 0.8290\n",
      "Epoch 78/100\n",
      "176/176 [==============================] - 0s 2ms/step - loss: 0.3669 - accuracy: 0.8304\n",
      "Epoch 79/100\n",
      "176/176 [==============================] - 0s 2ms/step - loss: 0.3690 - accuracy: 0.8332\n",
      "Epoch 80/100\n",
      "176/176 [==============================] - 0s 2ms/step - loss: 0.3669 - accuracy: 0.8327\n",
      "Epoch 81/100\n",
      "176/176 [==============================] - 0s 2ms/step - loss: 0.3673 - accuracy: 0.8283\n",
      "Epoch 82/100\n",
      "176/176 [==============================] - 0s 2ms/step - loss: 0.3674 - accuracy: 0.8315\n",
      "Epoch 83/100\n",
      "176/176 [==============================] - 0s 2ms/step - loss: 0.3675 - accuracy: 0.8325\n",
      "Epoch 84/100\n",
      "176/176 [==============================] - 0s 2ms/step - loss: 0.3669 - accuracy: 0.8329\n",
      "Epoch 85/100\n",
      "176/176 [==============================] - 0s 2ms/step - loss: 0.3665 - accuracy: 0.8309\n",
      "Epoch 86/100\n",
      "176/176 [==============================] - 0s 2ms/step - loss: 0.3654 - accuracy: 0.8329\n",
      "Epoch 87/100\n",
      "176/176 [==============================] - 0s 2ms/step - loss: 0.3640 - accuracy: 0.8316\n",
      "Epoch 88/100\n",
      "176/176 [==============================] - 0s 2ms/step - loss: 0.3647 - accuracy: 0.8347\n",
      "Epoch 89/100\n",
      "176/176 [==============================] - 1s 3ms/step - loss: 0.3636 - accuracy: 0.8347\n",
      "Epoch 90/100\n",
      "176/176 [==============================] - 0s 2ms/step - loss: 0.3650 - accuracy: 0.8302\n",
      "Epoch 91/100\n",
      "176/176 [==============================] - 0s 2ms/step - loss: 0.3634 - accuracy: 0.8311\n",
      "Epoch 92/100\n",
      "176/176 [==============================] - 0s 2ms/step - loss: 0.3627 - accuracy: 0.8338\n",
      "Epoch 93/100\n",
      "176/176 [==============================] - 0s 2ms/step - loss: 0.3633 - accuracy: 0.8359\n",
      "Epoch 94/100\n",
      "176/176 [==============================] - 0s 2ms/step - loss: 0.3621 - accuracy: 0.8370\n",
      "Epoch 95/100\n",
      "176/176 [==============================] - 0s 2ms/step - loss: 0.3623 - accuracy: 0.8309\n",
      "Epoch 96/100\n",
      "176/176 [==============================] - 0s 2ms/step - loss: 0.3614 - accuracy: 0.8356\n",
      "Epoch 97/100\n",
      "176/176 [==============================] - 0s 2ms/step - loss: 0.3628 - accuracy: 0.8363\n",
      "Epoch 98/100\n",
      "176/176 [==============================] - 0s 2ms/step - loss: 0.3619 - accuracy: 0.8350\n",
      "Epoch 99/100\n",
      "176/176 [==============================] - 0s 2ms/step - loss: 0.3607 - accuracy: 0.8363\n",
      "Epoch 100/100\n",
      "176/176 [==============================] - 0s 2ms/step - loss: 0.3603 - accuracy: 0.8373\n"
     ]
    },
    {
     "data": {
      "text/plain": [
       "<keras.callbacks.History at 0x7f2547d8d710>"
      ]
     },
     "execution_count": 36,
     "metadata": {},
     "output_type": "execute_result"
    }
   ],
   "source": [
    "model = keras.Sequential([\n",
    "    keras.layers.Dense(26, input_shape=(26,), activation='relu'),\n",
    "    keras.layers.Dense(15, activation='relu'),\n",
    "    keras.layers.Dense(1, activation='sigmoid')\n",
    "])\n",
    "\n",
    "# opt = keras.optimizers.Adam(learning_rate=0.01)\n",
    "\n",
    "model.compile(optimizer='adam',\n",
    "              loss='binary_crossentropy',\n",
    "              metrics=['accuracy'])\n",
    "\n",
    "model.fit(X_train, y_train, epochs=100)"
   ]
  },
  {
   "cell_type": "code",
   "execution_count": 37,
   "id": "9f2471a0",
   "metadata": {
    "execution": {
     "iopub.execute_input": "2023-01-15T13:39:06.066545Z",
     "iopub.status.busy": "2023-01-15T13:39:06.065841Z",
     "iopub.status.idle": "2023-01-15T13:39:06.398206Z",
     "shell.execute_reply": "2023-01-15T13:39:06.396889Z"
    },
    "papermill": {
     "duration": 0.409029,
     "end_time": "2023-01-15T13:39:06.401138",
     "exception": false,
     "start_time": "2023-01-15T13:39:05.992109",
     "status": "completed"
    },
    "tags": []
   },
   "outputs": [
    {
     "name": "stdout",
     "output_type": "stream",
     "text": [
      "44/44 [==============================] - 0s 2ms/step - loss: 0.4832 - accuracy: 0.7775\n"
     ]
    },
    {
     "data": {
      "text/plain": [
       "[0.48319610953330994, 0.7775408625602722]"
      ]
     },
     "execution_count": 37,
     "metadata": {},
     "output_type": "execute_result"
    }
   ],
   "source": [
    "model.evaluate(X_test, y_test)"
   ]
  },
  {
   "cell_type": "code",
   "execution_count": 38,
   "id": "80582997",
   "metadata": {
    "execution": {
     "iopub.execute_input": "2023-01-15T13:39:06.545791Z",
     "iopub.status.busy": "2023-01-15T13:39:06.545063Z",
     "iopub.status.idle": "2023-01-15T13:39:06.742614Z",
     "shell.execute_reply": "2023-01-15T13:39:06.741721Z"
    },
    "papermill": {
     "duration": 0.273092,
     "end_time": "2023-01-15T13:39:06.745530",
     "exception": false,
     "start_time": "2023-01-15T13:39:06.472438",
     "status": "completed"
    },
    "tags": []
   },
   "outputs": [
    {
     "data": {
      "text/plain": [
       "array([[0.4149106 ],\n",
       "       [0.30984062],\n",
       "       [0.0226272 ],\n",
       "       [0.86566937],\n",
       "       [0.5000097 ]], dtype=float32)"
      ]
     },
     "execution_count": 38,
     "metadata": {},
     "output_type": "execute_result"
    }
   ],
   "source": [
    "yp = model.predict(X_test)\n",
    "yp[:5]"
   ]
  },
  {
   "cell_type": "code",
   "execution_count": 39,
   "id": "94fce891",
   "metadata": {
    "execution": {
     "iopub.execute_input": "2023-01-15T13:39:06.899671Z",
     "iopub.status.busy": "2023-01-15T13:39:06.899260Z",
     "iopub.status.idle": "2023-01-15T13:39:06.907433Z",
     "shell.execute_reply": "2023-01-15T13:39:06.906090Z"
    },
    "papermill": {
     "duration": 0.087333,
     "end_time": "2023-01-15T13:39:06.910092",
     "exception": false,
     "start_time": "2023-01-15T13:39:06.822759",
     "status": "completed"
    },
    "tags": []
   },
   "outputs": [],
   "source": [
    "y_pred = []\n",
    "for element in yp:\n",
    "    if element > 0.5:\n",
    "        y_pred.append(1)\n",
    "    else:\n",
    "        y_pred.append(0)"
   ]
  },
  {
   "cell_type": "code",
   "execution_count": 40,
   "id": "3da16f69",
   "metadata": {
    "execution": {
     "iopub.execute_input": "2023-01-15T13:39:07.055359Z",
     "iopub.status.busy": "2023-01-15T13:39:07.054931Z",
     "iopub.status.idle": "2023-01-15T13:39:07.062448Z",
     "shell.execute_reply": "2023-01-15T13:39:07.061099Z"
    },
    "papermill": {
     "duration": 0.082381,
     "end_time": "2023-01-15T13:39:07.065116",
     "exception": false,
     "start_time": "2023-01-15T13:39:06.982735",
     "status": "completed"
    },
    "tags": []
   },
   "outputs": [
    {
     "data": {
      "text/plain": [
       "[0, 0, 0, 1, 1, 1, 0, 0, 0, 0]"
      ]
     },
     "execution_count": 40,
     "metadata": {},
     "output_type": "execute_result"
    }
   ],
   "source": [
    "y_pred[:10]"
   ]
  },
  {
   "cell_type": "code",
   "execution_count": 41,
   "id": "f9ff6c6e",
   "metadata": {
    "execution": {
     "iopub.execute_input": "2023-01-15T13:39:07.211440Z",
     "iopub.status.busy": "2023-01-15T13:39:07.210489Z",
     "iopub.status.idle": "2023-01-15T13:39:07.217929Z",
     "shell.execute_reply": "2023-01-15T13:39:07.216746Z"
    },
    "papermill": {
     "duration": 0.082936,
     "end_time": "2023-01-15T13:39:07.220354",
     "exception": false,
     "start_time": "2023-01-15T13:39:07.137418",
     "status": "completed"
    },
    "tags": []
   },
   "outputs": [
    {
     "data": {
      "text/plain": [
       "2660    0\n",
       "744     0\n",
       "5579    1\n",
       "64      1\n",
       "3287    1\n",
       "816     1\n",
       "2670    0\n",
       "5920    0\n",
       "1023    0\n",
       "6087    0\n",
       "Name: Churn, dtype: int64"
      ]
     },
     "execution_count": 41,
     "metadata": {},
     "output_type": "execute_result"
    }
   ],
   "source": [
    "y_test[:10]"
   ]
  },
  {
   "cell_type": "code",
   "execution_count": 42,
   "id": "56f23843",
   "metadata": {
    "execution": {
     "iopub.execute_input": "2023-01-15T13:39:07.365833Z",
     "iopub.status.busy": "2023-01-15T13:39:07.365123Z",
     "iopub.status.idle": "2023-01-15T13:39:07.377764Z",
     "shell.execute_reply": "2023-01-15T13:39:07.375984Z"
    },
    "papermill": {
     "duration": 0.090113,
     "end_time": "2023-01-15T13:39:07.381877",
     "exception": false,
     "start_time": "2023-01-15T13:39:07.291764",
     "status": "completed"
    },
    "tags": []
   },
   "outputs": [
    {
     "name": "stdout",
     "output_type": "stream",
     "text": [
      "              precision    recall  f1-score   support\n",
      "\n",
      "           0       0.82      0.87      0.85       999\n",
      "           1       0.64      0.54      0.59       408\n",
      "\n",
      "    accuracy                           0.78      1407\n",
      "   macro avg       0.73      0.71      0.72      1407\n",
      "weighted avg       0.77      0.78      0.77      1407\n",
      "\n"
     ]
    }
   ],
   "source": [
    "print(classification_report(y_test,y_pred))"
   ]
  },
  {
   "cell_type": "code",
   "execution_count": 43,
   "id": "80406280",
   "metadata": {
    "execution": {
     "iopub.execute_input": "2023-01-15T13:39:07.530214Z",
     "iopub.status.busy": "2023-01-15T13:39:07.529809Z",
     "iopub.status.idle": "2023-01-15T13:39:07.767521Z",
     "shell.execute_reply": "2023-01-15T13:39:07.766362Z"
    },
    "papermill": {
     "duration": 0.31473,
     "end_time": "2023-01-15T13:39:07.770040",
     "exception": false,
     "start_time": "2023-01-15T13:39:07.455310",
     "status": "completed"
    },
    "tags": []
   },
   "outputs": [
    {
     "data": {
      "text/plain": [
       "Text(69.0, 0.5, 'Truth')"
      ]
     },
     "execution_count": 43,
     "metadata": {},
     "output_type": "execute_result"
    },
    {
     "data": {
      "image/png": "[encoded data removed]",
      "text/plain": [
       "<Figure size 720x504 with 2 Axes>"
      ]
     },
     "metadata": {
      "needs_background": "light"
     },
     "output_type": "display_data"
    }
   ],
   "source": [
    "cm = tf.math.confusion_matrix(labels=y_test,predictions=y_pred)\n",
    "\n",
    "plt.figure(figsize = (10,7))\n",
    "sn.heatmap(cm, annot=True, fmt='d')\n",
    "plt.xlabel('Predicted')\n",
    "plt.ylabel('Truth')"
   ]
  }
 ],
 "metadata": {
  "kernelspec": {
   "display_name": "Python 3",
   "language": "python",
   "name": "python3"
  },
  "language_info": {
   "codemirror_mode": {
    "name": "ipython",
    "version": 3
   },
   "file_extension": ".py",
   "mimetype": "text/x-python",
   "name": "python",
   "nbconvert_exporter": "python",
   "pygments_lexer": "ipython3",
   "version": "3.7.12"
  },
  "papermill": {
   "default_parameters": {},
   "duration": 64.235105,
   "end_time": "2023-01-15T13:39:10.897313",
   "environment_variables": {},
   "exception": null,
   "input_path": "__notebook__.ipynb",
   "output_path": "__notebook__.ipynb",
   "parameters": {},
   "start_time": "2023-01-15T13:38:06.662208",
   "version": "2.3.4"
  }
 },
 "nbformat": 4,
 "nbformat_minor": 5
}
